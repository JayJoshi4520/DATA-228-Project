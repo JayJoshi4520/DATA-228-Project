{
 "cells": [
  {
   "cell_type": "markdown",
   "id": "f8fdb9bb-09e4-4b78-9461-2f622080b15e",
   "metadata": {},
   "source": [
    "# Group 6: \n",
    "# Team Members: <br>  1. Jay Joshi <br>  2. Avirit Singh <br>  3. Varun Patil <br>  4. Vaibhavi Rao <br>  5. Pragya Priyadarshini <br>  6. Tanu datt "
   ]
  },
  {
   "cell_type": "code",
   "execution_count": 2,
   "id": "9d0a0c3e-a499-4987-994a-c483be1a0ba0",
   "metadata": {},
   "outputs": [],
   "source": [
    "import matplotlib.pyplot as plt\n",
    "import seaborn as sns\n",
    "import numpy as np\n",
    "from pyspark.ml.linalg import Vectors\n",
    "from pyarrow import fs\n",
    "from pyspark.sql import functions as F\n",
    "from pyspark.sql.functions import *\n",
    "from pyspark.sql import SparkSession\n",
    "from pyspark.sql.types import (\n",
    "    StructType, StructField, StringType, IntegerType, BooleanType, FloatType, ArrayType, MapType\n",
    ")\n",
    "from pyspark.ml.recommendation import ALS"
   ]
  },
  {
   "cell_type": "code",
   "execution_count": 3,
   "id": "e03d53f7-34f1-45ed-92d2-1b19d45926bf",
   "metadata": {},
   "outputs": [
    {
     "name": "stderr",
     "output_type": "stream",
     "text": [
      "24/12/03 17:28:27 WARN Utils: Your hostname, IMS-028MBA.local resolves to a loopback address: 127.0.0.1; using 10.250.218.184 instead (on interface en0)\n",
      "24/12/03 17:28:27 WARN Utils: Set SPARK_LOCAL_IP if you need to bind to another address\n",
      "Setting default log level to \"WARN\".\n",
      "To adjust logging level use sc.setLogLevel(newLevel). For SparkR, use setLogLevel(newLevel).\n",
      "24/12/03 17:28:27 WARN NativeCodeLoader: Unable to load native-hadoop library for your platform... using builtin-java classes where applicable\n"
     ]
    },
    {
     "name": "stdout",
     "output_type": "stream",
     "text": [
      "<pyspark.sql.session.SparkSession object at 0x11988b560>\n"
     ]
    }
   ],
   "source": [
    "PATH = \"hdfs://localhost:9000/input/fashion-dataset\"\n",
    "# Create a Spark session\n",
    "spark = SparkSession.builder \\\n",
    "    .appName(\"BD with Spark\") \\\n",
    "    .getOrCreate()\n",
    "\n",
    "# check if spark session is running\n",
    "print(spark)"
   ]
  },
  {
   "cell_type": "code",
   "execution_count": 3,
   "id": "96bb1b31-3c7c-4a2f-8ab8-cfc6f1bd3469",
   "metadata": {},
   "outputs": [
    {
     "name": "stdout",
     "output_type": "stream",
     "text": [
      "Number of rows in the DataFrame: 44446\n",
      "+---------+--------------------+\n",
      "| filename|                link|\n",
      "+---------+--------------------+\n",
      "|15970.jpg|http://assets.myn...|\n",
      "|39386.jpg|http://assets.myn...|\n",
      "|59263.jpg|http://assets.myn...|\n",
      "|21379.jpg|http://assets.myn...|\n",
      "|53759.jpg|http://assets.myn...|\n",
      "+---------+--------------------+\n",
      "only showing top 5 rows\n",
      "\n"
     ]
    }
   ],
   "source": [
    "images_df = spark.read.csv(PATH+'/images.csv', header=True, inferSchema=True)\n",
    "print(f\"Number of rows in the DataFrame: {images_df.count()}\")\n",
    "images_df.show(5) "
   ]
  },
  {
   "cell_type": "code",
   "execution_count": 4,
   "id": "a5e6ac16-b726-4997-90ac-bdff3fdb6d8b",
   "metadata": {},
   "outputs": [
    {
     "name": "stdout",
     "output_type": "stream",
     "text": [
      "+-----+------+--------------+-----------+-----------+----------+------+----+------+--------------------+\n",
      "|   id|gender|masterCategory|subCategory|articleType|baseColour|season|year| usage|  productDisplayName|\n",
      "+-----+------+--------------+-----------+-----------+----------+------+----+------+--------------------+\n",
      "|15970|   Men|       Apparel|    Topwear|     Shirts| Navy Blue|  Fall|2011|Casual|Turtle Check Men ...|\n",
      "|39386|   Men|       Apparel| Bottomwear|      Jeans|      Blue|Summer|2012|Casual|Peter England Men...|\n",
      "|59263| Women|   Accessories|    Watches|    Watches|    Silver|Winter|2016|Casual|Titan Women Silve...|\n",
      "|21379|   Men|       Apparel| Bottomwear|Track Pants|     Black|  Fall|2011|Casual|Manchester United...|\n",
      "|53759|   Men|       Apparel|    Topwear|    Tshirts|      Grey|Summer|2012|Casual|Puma Men Grey T-s...|\n",
      "+-----+------+--------------+-----------+-----------+----------+------+----+------+--------------------+\n",
      "only showing top 5 rows\n",
      "\n"
     ]
    }
   ],
   "source": [
    "styles_df = spark.read.csv(PATH+'/styles.csv', header=True, inferSchema=True)\n",
    "styles_df.show(5) "
   ]
  },
  {
   "cell_type": "code",
   "execution_count": 5,
   "id": "b55cbe27-21a8-40d2-a301-8bfaf0d4097f",
   "metadata": {},
   "outputs": [
    {
     "name": "stdout",
     "output_type": "stream",
     "text": [
      "root\n",
      " |-- id: integer (nullable = true)\n",
      " |-- gender: string (nullable = true)\n",
      " |-- masterCategory: string (nullable = true)\n",
      " |-- subCategory: string (nullable = true)\n",
      " |-- articleType: string (nullable = true)\n",
      " |-- baseColour: string (nullable = true)\n",
      " |-- season: string (nullable = true)\n",
      " |-- year: integer (nullable = true)\n",
      " |-- usage: string (nullable = true)\n",
      " |-- productDisplayName: string (nullable = true)\n",
      "\n",
      "Number of rows: 44446\n"
     ]
    }
   ],
   "source": [
    "# Display the schema of the DataFrame\n",
    "styles_df.printSchema()\n",
    "\n",
    "# Count the number of rows\n",
    "num_rows = styles_df.count()\n",
    "print(f\"Number of rows: {num_rows}\")"
   ]
  },
  {
   "cell_type": "code",
   "execution_count": 6,
   "id": "556e0fae-8f8c-4c3a-9959-d2def38913a0",
   "metadata": {},
   "outputs": [
    {
     "name": "stdout",
     "output_type": "stream",
     "text": [
      "Number of unique values in 'gender': 5\n",
      "Number of unique values in 'masterCategory': 7\n",
      "Number of unique values in 'subCategory': 45\n",
      "Number of unique values in 'articleType': 143\n",
      "Number of unique values in 'baseColour': 47\n",
      "Number of unique values in 'season': 5\n",
      "Number of unique values in 'usage': 10\n"
     ]
    }
   ],
   "source": [
    "# List of categorical columns\n",
    "categorical_columns = ['gender', 'masterCategory', 'subCategory', 'articleType', 'baseColour', 'season', 'usage']\n",
    "\n",
    "# Count distinct values in each categorical column\n",
    "for column in categorical_columns:\n",
    "    distinct_count = styles_df.select(column).distinct().count()\n",
    "    print(f\"Number of unique values in '{column}': {distinct_count}\")"
   ]
  },
  {
   "cell_type": "code",
   "execution_count": 7,
   "id": "f1bde099-9768-45a6-9d83-60121103ef5b",
   "metadata": {},
   "outputs": [
    {
     "name": "stdout",
     "output_type": "stream",
     "text": [
      "Most common values in 'gender':\n",
      "+------+-----+\n",
      "|gender|count|\n",
      "+------+-----+\n",
      "|   Men|22165|\n",
      "| Women|18632|\n",
      "|Unisex| 2164|\n",
      "|  Boys|  830|\n",
      "| Girls|  655|\n",
      "+------+-----+\n",
      "\n",
      "Most common values in 'masterCategory':\n",
      "+--------------+-----+\n",
      "|masterCategory|count|\n",
      "+--------------+-----+\n",
      "|       Apparel|21400|\n",
      "|   Accessories|11289|\n",
      "|      Footwear| 9222|\n",
      "| Personal Care| 2404|\n",
      "|    Free Items|  105|\n",
      "+--------------+-----+\n",
      "only showing top 5 rows\n",
      "\n",
      "Most common values in 'subCategory':\n",
      "+-----------+-----+\n",
      "|subCategory|count|\n",
      "+-----------+-----+\n",
      "|    Topwear|15405|\n",
      "|      Shoes| 7344|\n",
      "|       Bags| 3055|\n",
      "| Bottomwear| 2694|\n",
      "|    Watches| 2542|\n",
      "+-----------+-----+\n",
      "only showing top 5 rows\n",
      "\n",
      "Most common values in 'articleType':\n",
      "+------------+-----+\n",
      "| articleType|count|\n",
      "+------------+-----+\n",
      "|     Tshirts| 7070|\n",
      "|      Shirts| 3217|\n",
      "|Casual Shoes| 2846|\n",
      "|     Watches| 2542|\n",
      "|Sports Shoes| 2036|\n",
      "+------------+-----+\n",
      "only showing top 5 rows\n",
      "\n",
      "Most common values in 'baseColour':\n",
      "+----------+-----+\n",
      "|baseColour|count|\n",
      "+----------+-----+\n",
      "|     Black| 9732|\n",
      "|     White| 5540|\n",
      "|      Blue| 4922|\n",
      "|     Brown| 3494|\n",
      "|      Grey| 2741|\n",
      "+----------+-----+\n",
      "only showing top 5 rows\n",
      "\n",
      "Most common values in 'season':\n",
      "+------+-----+\n",
      "|season|count|\n",
      "+------+-----+\n",
      "|Summer|21476|\n",
      "|  Fall|11445|\n",
      "|Winter| 8519|\n",
      "|Spring| 2985|\n",
      "|  NULL|   21|\n",
      "+------+-----+\n",
      "\n",
      "Most common values in 'usage':\n",
      "+------+-----+\n",
      "| usage|count|\n",
      "+------+-----+\n",
      "|Casual|34414|\n",
      "|Sports| 4025|\n",
      "|Ethnic| 3208|\n",
      "|Formal| 2359|\n",
      "|    NA|  316|\n",
      "+------+-----+\n",
      "only showing top 5 rows\n",
      "\n"
     ]
    }
   ],
   "source": [
    "# Show top 5 most common values for each categorical column\n",
    "for column in categorical_columns:\n",
    "    print(f\"Most common values in '{column}':\")\n",
    "    styles_df.groupBy(column).count().orderBy(col(\"count\").desc()).show(5)"
   ]
  },
  {
   "cell_type": "code",
   "execution_count": 8,
   "id": "95eeb6a7-52fb-4c4e-8168-ceff9f96eb44",
   "metadata": {},
   "outputs": [
    {
     "name": "stdout",
     "output_type": "stream",
     "text": [
      "+------+-----+\n",
      "|season|count|\n",
      "+------+-----+\n",
      "|Summer|21476|\n",
      "|  Fall|11445|\n",
      "|Winter| 8519|\n",
      "|Spring| 2985|\n",
      "|  NULL|   21|\n",
      "+------+-----+\n",
      "\n",
      "+----+-----+\n",
      "|year|count|\n",
      "+----+-----+\n",
      "|NULL|    1|\n",
      "|2007|    2|\n",
      "|2008|    7|\n",
      "|2009|   20|\n",
      "|2010|  846|\n",
      "|2011|13689|\n",
      "|2012|16290|\n",
      "|2013| 1213|\n",
      "|2014|  236|\n",
      "|2015| 2780|\n",
      "|2016| 6007|\n",
      "|2017| 2917|\n",
      "|2018|  405|\n",
      "|2019|   33|\n",
      "+----+-----+\n",
      "\n"
     ]
    }
   ],
   "source": [
    "# Distribution by season\n",
    "styles_df.groupBy(\"season\").count().orderBy(col(\"count\").desc()).show()\n",
    "\n",
    "# Distribution by year\n",
    "styles_df.groupBy(\"year\").count().orderBy(col(\"year\")).show()"
   ]
  },
  {
   "cell_type": "code",
   "execution_count": 9,
   "id": "3a8e86ee-4358-49b4-956d-96e3d660f5bf",
   "metadata": {},
   "outputs": [
    {
     "name": "stdout",
     "output_type": "stream",
     "text": [
      "+---+------+--------------+-----------+-----------+----------+------+----+-----+------------------+\n",
      "| id|gender|masterCategory|subCategory|articleType|baseColour|season|year|usage|productDisplayName|\n",
      "+---+------+--------------+-----------+-----------+----------+------+----+-----+------------------+\n",
      "|  0|     0|             0|          0|          0|         0|    21|   1|    1|                 0|\n",
      "+---+------+--------------+-----------+-----------+----------+------+----+-----+------------------+\n",
      "\n"
     ]
    }
   ],
   "source": [
    "# Count null values in each column\n",
    "styles_df.select([count(when(col(c).isNull() | isnan(c), c)).alias(c) for c in styles_df.columns]).show()"
   ]
  },
  {
   "cell_type": "code",
   "execution_count": 10,
   "id": "69b3546c-fc01-43b5-a08a-4c01b15945e6",
   "metadata": {},
   "outputs": [
    {
     "name": "stdout",
     "output_type": "stream",
     "text": [
      "+------------+-----+\n",
      "|       usage|count|\n",
      "+------------+-----+\n",
      "|      Casual|34414|\n",
      "|      Sports| 4025|\n",
      "|      Ethnic| 3208|\n",
      "|      Formal| 2359|\n",
      "|          NA|  316|\n",
      "|Smart Casual|   67|\n",
      "|       Party|   29|\n",
      "|      Travel|   26|\n",
      "|        Home|    1|\n",
      "|        NULL|    1|\n",
      "+------------+-----+\n",
      "\n"
     ]
    }
   ],
   "source": [
    "styles_df.groupBy(\"usage\").count().orderBy(col(\"count\").desc()).show()"
   ]
  },
  {
   "cell_type": "code",
   "execution_count": 11,
   "id": "a1e13610-0631-452a-9606-2f16e6bd7bb5",
   "metadata": {},
   "outputs": [
    {
     "name": "stdout",
     "output_type": "stream",
     "text": [
      "+------+------------+-----+\n",
      "|gender| articleType|count|\n",
      "+------+------------+-----+\n",
      "|   Men|     Tshirts| 5246|\n",
      "|   Men|      Shirts| 2844|\n",
      "|   Men|Casual Shoes| 2247|\n",
      "| Women|      Kurtas| 1761|\n",
      "| Women|    Handbags| 1689|\n",
      "|   Men|Sports Shoes| 1590|\n",
      "| Women|        Tops| 1532|\n",
      "|   Men|     Watches| 1473|\n",
      "| Women|       Heels| 1322|\n",
      "| Women|     Tshirts| 1116|\n",
      "+------+------------+-----+\n",
      "only showing top 10 rows\n",
      "\n"
     ]
    }
   ],
   "source": [
    "styles_df.groupBy(\"gender\", \"articleType\").count().orderBy(col(\"count\").desc()).show(10)"
   ]
  },
  {
   "cell_type": "code",
   "execution_count": 12,
   "id": "9a956435-0d88-4e53-b882-3054bf6d06e9",
   "metadata": {},
   "outputs": [
    {
     "name": "stdout",
     "output_type": "stream",
     "text": [
      "+----------+-----+\n",
      "|baseColour|count|\n",
      "+----------+-----+\n",
      "|     Black| 9732|\n",
      "|     White| 5540|\n",
      "|      Blue| 4922|\n",
      "|     Brown| 3494|\n",
      "|      Grey| 2741|\n",
      "|       Red| 2458|\n",
      "|     Green| 2116|\n",
      "|      Pink| 1861|\n",
      "| Navy Blue| 1791|\n",
      "|    Purple| 1643|\n",
      "+----------+-----+\n",
      "only showing top 10 rows\n",
      "\n"
     ]
    }
   ],
   "source": [
    "styles_df.groupBy(\"baseColour\").count().orderBy(col(\"count\").desc()).show(10)"
   ]
  },
  {
   "cell_type": "code",
   "execution_count": 4,
   "id": "74e53025-200c-4556-9db7-a82059851245",
   "metadata": {},
   "outputs": [
    {
     "name": "stderr",
     "output_type": "stream",
     "text": [
      "                                                                                \r"
     ]
    },
    {
     "name": "stdout",
     "output_type": "stream",
     "text": [
      "root\n",
      " |-- notification: string (nullable = true)\n",
      " |-- meta: struct (nullable = true)\n",
      " |    |-- code: integer (nullable = true)\n",
      " |    |-- requestId: string (nullable = true)\n",
      " |-- data: struct (nullable = true)\n",
      " |    |-- id: integer (nullable = true)\n",
      " |    |-- price: integer (nullable = true)\n",
      " |    |-- discountedPrice: integer (nullable = true)\n",
      " |    |-- styleType: string (nullable = true)\n",
      " |    |-- productTypeId: integer (nullable = true)\n",
      " |    |-- articleNumber: string (nullable = true)\n",
      " |    |-- visualTag: string (nullable = true)\n",
      " |    |-- productDisplayName: string (nullable = true)\n",
      " |    |-- variantName: string (nullable = true)\n",
      " |    |-- myntraRating: integer (nullable = true)\n",
      " |    |-- catalogAddDate: integer (nullable = true)\n",
      " |    |-- brandName: string (nullable = true)\n",
      " |    |-- ageGroup: string (nullable = true)\n",
      " |    |-- gender: string (nullable = true)\n",
      " |    |-- baseColour: string (nullable = true)\n",
      " |    |-- colour1: string (nullable = true)\n",
      " |    |-- colour2: string (nullable = true)\n",
      " |    |-- fashionType: string (nullable = true)\n",
      " |    |-- season: string (nullable = true)\n",
      " |    |-- year: string (nullable = true)\n",
      " |    |-- usage: string (nullable = true)\n",
      " |    |-- vat: float (nullable = true)\n",
      " |    |-- displayCategories: string (nullable = true)\n",
      " |    |-- weight: string (nullable = true)\n",
      " |    |-- navigationId: integer (nullable = true)\n",
      " |    |-- landingPageUrl: string (nullable = true)\n",
      " |    |-- articleAttributes: struct (nullable = true)\n",
      " |    |    |-- Pattern: string (nullable = true)\n",
      " |    |    |-- Body_or_Garment_Size: string (nullable = true)\n",
      " |    |-- crossLinks: array (nullable = true)\n",
      " |    |    |-- element: struct (containsNull = true)\n",
      " |    |    |    |-- key: string (nullable = true)\n",
      " |    |    |    |-- value: string (nullable = true)\n",
      " |    |-- brandUserProfile: string (nullable = true)\n",
      " |    |-- codEnabled: boolean (nullable = true)\n",
      " |    |-- styleImages: map (nullable = true)\n",
      " |    |    |-- key: string\n",
      " |    |    |-- value: struct (valueContainsNull = true)\n",
      " |    |    |    |-- imageURL: string (nullable = true)\n",
      " |    |    |    |-- resolutions: struct (nullable = true)\n",
      " |    |    |    |    |-- X1080X1440Xmini: string (nullable = true)\n",
      " |    |    |    |    |-- X48X64: string (nullable = true)\n",
      " |    |    |    |    |-- X1080X1440: string (nullable = true)\n",
      " |    |    |    |    |-- X150X200: string (nullable = true)\n",
      " |    |    |    |    |-- X360X480: string (nullable = true)\n",
      " |    |    |    |    |-- X180X240: string (nullable = true)\n",
      " |    |    |    |    |-- X360X480Xmini: string (nullable = true)\n",
      " |    |    |    |    |-- X180X240Xmini: string (nullable = true)\n",
      " |    |    |    |    |-- X150X200Xmini: string (nullable = true)\n",
      " |    |    |    |    |-- X48X64Xmini: string (nullable = true)\n",
      " |    |    |    |    |-- X125X161: string (nullable = true)\n",
      " |    |    |    |    |-- X125X161Xmini: string (nullable = true)\n",
      " |    |    |    |-- imageType: string (nullable = true)\n",
      "\n"
     ]
    },
    {
     "name": "stderr",
     "output_type": "stream",
     "text": [
      "24/12/03 17:29:04 WARN SparkStringUtils: Truncated the string representation of a plan since it was too large. This behavior can be adjusted by setting 'spark.sql.debug.maxToStringFields'.\n"
     ]
    }
   ],
   "source": [
    "# Define the schema (same as in your original code)\n",
    "image_resolutions_schema = StructType([\n",
    "    StructField(\"X1080X1440Xmini\", StringType(), True),\n",
    "    StructField(\"X48X64\", StringType(), True),\n",
    "    StructField(\"X1080X1440\", StringType(), True),\n",
    "    StructField(\"X150X200\", StringType(), True),\n",
    "    StructField(\"X360X480\", StringType(), True),\n",
    "    StructField(\"X180X240\", StringType(), True),\n",
    "    StructField(\"X360X480Xmini\", StringType(), True),\n",
    "    StructField(\"X180X240Xmini\", StringType(), True),\n",
    "    StructField(\"X150X200Xmini\", StringType(), True),\n",
    "    StructField(\"X48X64Xmini\", StringType(), True),\n",
    "    StructField(\"X125X161\", StringType(), True),\n",
    "    StructField(\"X125X161Xmini\", StringType(), True)\n",
    "])\n",
    "\n",
    "style_images_schema = StructType([\n",
    "    StructField(\"imageURL\", StringType(), True),\n",
    "    StructField(\"resolutions\", image_resolutions_schema, True),\n",
    "    StructField(\"imageType\", StringType(), True)\n",
    "])\n",
    "\n",
    "article_attributes_schema = StructType([\n",
    "    StructField(\"Pattern\", StringType(), True),\n",
    "    StructField(\"Body_or_Garment_Size\", StringType(), True)\n",
    "])\n",
    "\n",
    "cross_link_schema = StructType([\n",
    "    StructField(\"key\", StringType(), True),\n",
    "    StructField(\"value\", StringType(), True)\n",
    "])\n",
    "\n",
    "data_schema = StructType([\n",
    "    StructField(\"id\", IntegerType(), True),\n",
    "    StructField(\"price\", IntegerType(), True),\n",
    "    StructField(\"discountedPrice\", IntegerType(), True),\n",
    "    StructField(\"styleType\", StringType(), True),\n",
    "    StructField(\"productTypeId\", IntegerType(), True),\n",
    "    StructField(\"articleNumber\", StringType(), True),\n",
    "    StructField(\"visualTag\", StringType(), True),\n",
    "    StructField(\"productDisplayName\", StringType(), True),\n",
    "    StructField(\"variantName\", StringType(), True),\n",
    "    StructField(\"myntraRating\", IntegerType(), True),\n",
    "    StructField(\"catalogAddDate\", IntegerType(), True),\n",
    "    StructField(\"brandName\", StringType(), True),\n",
    "    StructField(\"ageGroup\", StringType(), True),\n",
    "    StructField(\"gender\", StringType(), True),\n",
    "    StructField(\"baseColour\", StringType(), True),\n",
    "    StructField(\"colour1\", StringType(), True),\n",
    "    StructField(\"colour2\", StringType(), True),\n",
    "    StructField(\"fashionType\", StringType(), True),\n",
    "    StructField(\"season\", StringType(), True),\n",
    "    StructField(\"year\", StringType(), True),\n",
    "    StructField(\"usage\", StringType(), True),\n",
    "    StructField(\"vat\", FloatType(), True),\n",
    "    StructField(\"displayCategories\", StringType(), True),\n",
    "    StructField(\"weight\", StringType(), True),\n",
    "    StructField(\"navigationId\", IntegerType(), True),\n",
    "    StructField(\"landingPageUrl\", StringType(), True),\n",
    "    StructField(\"articleAttributes\", article_attributes_schema, True),\n",
    "    StructField(\"crossLinks\", ArrayType(cross_link_schema), True),\n",
    "    StructField(\"brandUserProfile\", StringType(), True),  # Empty object\n",
    "    StructField(\"codEnabled\", BooleanType(), True),\n",
    "    StructField(\"styleImages\", MapType(StringType(), style_images_schema), True)\n",
    "])\n",
    "\n",
    "meta_schema = StructType([\n",
    "    StructField(\"code\", IntegerType(), True),\n",
    "    StructField(\"requestId\", StringType(), True)\n",
    "])\n",
    "\n",
    "schema = StructType([\n",
    "    StructField(\"notification\", StringType(), True),  # Empty object\n",
    "    StructField(\"meta\", meta_schema, True),\n",
    "    StructField(\"data\", data_schema, True)\n",
    "])\n",
    "\n",
    "# Path to the directory containing your JSON files\n",
    "json_files_path = PATH+'/styles/*.json'\n",
    "\n",
    "# Read multiple JSON files into DataFrame with schema\n",
    "df = spark.read.schema(schema).json(json_files_path)\n",
    "\n",
    "# Show DataFrame and schema\n",
    "df.printSchema()"
   ]
  },
  {
   "cell_type": "code",
   "execution_count": 5,
   "id": "08d5ed07-a766-4d91-8b02-4271f76c8ce3",
   "metadata": {},
   "outputs": [
    {
     "name": "stdout",
     "output_type": "stream",
     "text": [
      "root\n",
      " |-- notification: string (nullable = true)\n",
      " |-- meta_code: integer (nullable = true)\n",
      " |-- meta_requestId: string (nullable = true)\n",
      " |-- data_id: integer (nullable = true)\n",
      " |-- data_price: integer (nullable = true)\n",
      " |-- data_discountedPrice: integer (nullable = true)\n",
      " |-- data_styleType: string (nullable = true)\n",
      " |-- data_productTypeId: integer (nullable = true)\n",
      " |-- data_articleNumber: string (nullable = true)\n",
      " |-- data_visualTag: string (nullable = true)\n",
      " |-- data_productDisplayName: string (nullable = true)\n",
      " |-- data_variantName: string (nullable = true)\n",
      " |-- data_myntraRating: integer (nullable = true)\n",
      " |-- data_catalogAddDate: integer (nullable = true)\n",
      " |-- data_brandName: string (nullable = true)\n",
      " |-- data_ageGroup: string (nullable = true)\n",
      " |-- data_gender: string (nullable = true)\n",
      " |-- data_baseColour: string (nullable = true)\n",
      " |-- data_colour1: string (nullable = true)\n",
      " |-- data_colour2: string (nullable = true)\n",
      " |-- data_fashionType: string (nullable = true)\n",
      " |-- data_season: string (nullable = true)\n",
      " |-- data_year: string (nullable = true)\n",
      " |-- data_usage: string (nullable = true)\n",
      " |-- data_vat: float (nullable = true)\n",
      " |-- data_displayCategories: string (nullable = true)\n",
      " |-- data_weight: string (nullable = true)\n",
      " |-- data_navigationId: integer (nullable = true)\n",
      " |-- data_landingPageUrl: string (nullable = true)\n",
      " |-- data_articleAttributes_Pattern: string (nullable = true)\n",
      " |-- data_articleAttributes_Body_or_Garment_Size: string (nullable = true)\n",
      " |-- data_crossLinks: array (nullable = true)\n",
      " |    |-- element: struct (containsNull = true)\n",
      " |    |    |-- key: string (nullable = true)\n",
      " |    |    |-- value: string (nullable = true)\n",
      " |-- data_brandUserProfile: string (nullable = true)\n",
      " |-- data_codEnabled: boolean (nullable = true)\n",
      " |-- data_styleImages: map (nullable = true)\n",
      " |    |-- key: string\n",
      " |    |-- value: struct (valueContainsNull = true)\n",
      " |    |    |-- imageURL: string (nullable = true)\n",
      " |    |    |-- resolutions: struct (nullable = true)\n",
      " |    |    |    |-- X1080X1440Xmini: string (nullable = true)\n",
      " |    |    |    |-- X48X64: string (nullable = true)\n",
      " |    |    |    |-- X1080X1440: string (nullable = true)\n",
      " |    |    |    |-- X150X200: string (nullable = true)\n",
      " |    |    |    |-- X360X480: string (nullable = true)\n",
      " |    |    |    |-- X180X240: string (nullable = true)\n",
      " |    |    |    |-- X360X480Xmini: string (nullable = true)\n",
      " |    |    |    |-- X180X240Xmini: string (nullable = true)\n",
      " |    |    |    |-- X150X200Xmini: string (nullable = true)\n",
      " |    |    |    |-- X48X64Xmini: string (nullable = true)\n",
      " |    |    |    |-- X125X161: string (nullable = true)\n",
      " |    |    |    |-- X125X161Xmini: string (nullable = true)\n",
      " |    |    |-- imageType: string (nullable = true)\n",
      "\n"
     ]
    }
   ],
   "source": [
    "# Flatten the meta and data structs\n",
    "flattened_df = df.select(\n",
    "    col(\"notification\"),\n",
    "    col(\"meta.code\").alias(\"meta_code\"),\n",
    "    col(\"meta.requestId\").alias(\"meta_requestId\"),\n",
    "    col(\"data.id\").alias(\"data_id\"),\n",
    "    col(\"data.price\").alias(\"data_price\"),\n",
    "    col(\"data.discountedPrice\").alias(\"data_discountedPrice\"),\n",
    "    col(\"data.styleType\").alias(\"data_styleType\"),\n",
    "    col(\"data.productTypeId\").alias(\"data_productTypeId\"),\n",
    "    col(\"data.articleNumber\").alias(\"data_articleNumber\"),\n",
    "    col(\"data.visualTag\").alias(\"data_visualTag\"),\n",
    "    col(\"data.productDisplayName\").alias(\"data_productDisplayName\"),\n",
    "    col(\"data.variantName\").alias(\"data_variantName\"),\n",
    "    col(\"data.myntraRating\").alias(\"data_myntraRating\"),\n",
    "    col(\"data.catalogAddDate\").alias(\"data_catalogAddDate\"),\n",
    "    col(\"data.brandName\").alias(\"data_brandName\"),\n",
    "    col(\"data.ageGroup\").alias(\"data_ageGroup\"),\n",
    "    col(\"data.gender\").alias(\"data_gender\"),\n",
    "    col(\"data.baseColour\").alias(\"data_baseColour\"),\n",
    "    col(\"data.colour1\").alias(\"data_colour1\"),\n",
    "    col(\"data.colour2\").alias(\"data_colour2\"),\n",
    "    col(\"data.fashionType\").alias(\"data_fashionType\"),\n",
    "    col(\"data.season\").alias(\"data_season\"),\n",
    "    col(\"data.year\").alias(\"data_year\"),\n",
    "    col(\"data.usage\").alias(\"data_usage\"),\n",
    "    col(\"data.vat\").alias(\"data_vat\"),\n",
    "    col(\"data.displayCategories\").alias(\"data_displayCategories\"),\n",
    "    col(\"data.weight\").alias(\"data_weight\"),\n",
    "    col(\"data.navigationId\").alias(\"data_navigationId\"),\n",
    "    col(\"data.landingPageUrl\").alias(\"data_landingPageUrl\"),\n",
    "    col(\"data.articleAttributes.Pattern\").alias(\"data_articleAttributes_Pattern\"),\n",
    "    col(\"data.articleAttributes.Body_or_Garment_Size\").alias(\"data_articleAttributes_Body_or_Garment_Size\"),\n",
    "    col(\"data.crossLinks\").alias(\"data_crossLinks\"),\n",
    "    col(\"data.brandUserProfile\").alias(\"data_brandUserProfile\"),\n",
    "    col(\"data.codEnabled\").alias(\"data_codEnabled\"),\n",
    "    col(\"data.styleImages\").alias(\"data_styleImages\")\n",
    ")\n",
    "\n",
    "# Show the flattened DataFrame Schema\n",
    "flattened_df.printSchema()"
   ]
  },
  {
   "cell_type": "code",
   "execution_count": 6,
   "id": "5a3c66a1-9d69-4d37-8c97-1ec6117f28b9",
   "metadata": {},
   "outputs": [
    {
     "name": "stderr",
     "output_type": "stream",
     "text": [
      "                                                                                \r"
     ]
    },
    {
     "name": "stdout",
     "output_type": "stream",
     "text": [
      "+--------------+------------------+\n",
      "|data_brandName|         avg_price|\n",
      "+--------------+------------------+\n",
      "|        Suunto|           25450.0|\n",
      "|  Just Cavalli|13963.888888888889|\n",
      "|       Nautica|          9513.125|\n",
      "|     Morellato|            9094.0|\n",
      "|        SKAGEN|            8745.0|\n",
      "|    Pal Zileri|            8625.0|\n",
      "|  Kenneth Cole| 8133.461538461538|\n",
      "|         GUESS|        7950.15625|\n",
      "|       Citizen| 7793.939393939394|\n",
      "|    MISS SIXTY| 7714.761904761905|\n",
      "+--------------+------------------+\n",
      "\n"
     ]
    },
    {
     "name": "stderr",
     "output_type": "stream",
     "text": [
      "                                                                                \r"
     ]
    },
    {
     "data": {
      "text/plain": [
       "<Axes: title={'center': 'Top 10 Brands by Average Price'}, xlabel='Brand', ylabel='Average Price'>"
      ]
     },
     "execution_count": 6,
     "metadata": {},
     "output_type": "execute_result"
    },
    {
     "data": {
      "image/png": "[encoded data removed]",
      "text/plain": [
       "<Figure size 640x480 with 1 Axes>"
      ]
     },
     "metadata": {},
     "output_type": "display_data"
    }
   ],
   "source": [
    "from pyspark.sql import functions as F\n",
    "\n",
    "# Assuming 'flattened_df' is your PySpark DataFrame\n",
    "# Group by brand name and calculate average price\n",
    "top_brands = (\n",
    "    flattened_df.groupBy(\"data_brandName\")\n",
    "    .agg(F.mean(\"data_price\").alias(\"avg_price\"))\n",
    "    .orderBy(F.col(\"avg_price\").desc())\n",
    "    .limit(10)  # Get top 5 brands\n",
    ")\n",
    "\n",
    "# Show the top 5 brands (PySpark does not support direct plotting like pandas)\n",
    "top_brands.show()\n",
    "\n",
    "# If you need to plot this in an environment that supports plotting:\n",
    "# Convert to Pandas DataFrame (for plotting, if necessary and the data is small enough)\n",
    "pandas_df = top_brands.toPandas()\n",
    "\n",
    "# Plot the top 5 brands using Pandas (this step would typically be done on a local machine or a notebook interface)\n",
    "pandas_df.plot(kind=\"bar\", x='data_brandName', y='avg_price', title=\"Top 10 Brands by Average Price\", xlabel=\"Brand\", ylabel=\"Average Price\")\n"
   ]
  },
  {
   "cell_type": "code",
   "execution_count": 7,
   "id": "5356963e-97c1-4a98-9491-ff77e6ff1cce",
   "metadata": {},
   "outputs": [
    {
     "name": "stderr",
     "output_type": "stream",
     "text": [
      "                                                                                \r"
     ]
    },
    {
     "data": {
      "text/plain": [
       "<Axes: title={'center': 'Top 10 Brands by Average Price'}, xlabel='Brand', ylabel='Average Price'>"
      ]
     },
     "execution_count": 7,
     "metadata": {},
     "output_type": "execute_result"
    },
    {
     "data": {
      "image/png": "[encoded data removed]",
      "text/plain": [
       "<Figure size 640x480 with 1 Axes>"
      ]
     },
     "metadata": {},
     "output_type": "display_data"
    }
   ],
   "source": [
    "# Convert to Pandas DataFrame\n",
    "pandas_df = flattened_df.toPandas()\n",
    "\n",
    "# Group by brand name and calculate average price\n",
    "top_brands = (\n",
    "    pandas_df.groupby(\"data_brandName\")[\"data_price\"]\n",
    "    .mean()\n",
    "    .sort_values(ascending=False)\n",
    "    .head(10)  # Get top 10 brands\n",
    ")\n",
    "\n",
    "# Plot the top 5 brands\n",
    "top_brands.plot(kind=\"bar\", title=\"Top 10 Brands by Average Price\", xlabel=\"Brand\", ylabel=\"Average Price\")\n"
   ]
  },
  {
   "cell_type": "code",
   "execution_count": 8,
   "id": "a05214cc-6892-4e7b-966a-fc5ad4c9da9a",
   "metadata": {},
   "outputs": [
    {
     "name": "stdout",
     "output_type": "stream",
     "text": [
      "root\n",
      " |-- meta_code: integer (nullable = true)\n",
      " |-- meta_requestId: string (nullable = true)\n",
      " |-- data_id: integer (nullable = true)\n",
      " |-- data_price: integer (nullable = true)\n",
      " |-- data_discountedPrice: integer (nullable = true)\n",
      " |-- data_styleType: string (nullable = true)\n",
      " |-- data_productTypeId: integer (nullable = true)\n",
      " |-- data_articleNumber: string (nullable = true)\n",
      " |-- data_productDisplayName: string (nullable = true)\n",
      " |-- data_variantName: string (nullable = true)\n",
      " |-- data_myntraRating: integer (nullable = true)\n",
      " |-- data_catalogAddDate: integer (nullable = true)\n",
      " |-- data_brandName: string (nullable = true)\n",
      " |-- data_ageGroup: string (nullable = true)\n",
      " |-- data_gender: string (nullable = true)\n",
      " |-- data_baseColour: string (nullable = true)\n",
      " |-- data_colour1: string (nullable = true)\n",
      " |-- data_colour2: string (nullable = true)\n",
      " |-- data_fashionType: string (nullable = true)\n",
      " |-- data_season: string (nullable = true)\n",
      " |-- data_year: string (nullable = true)\n",
      " |-- data_usage: string (nullable = true)\n",
      " |-- data_vat: float (nullable = true)\n",
      " |-- data_displayCategories: string (nullable = true)\n",
      " |-- data_weight: string (nullable = true)\n",
      " |-- data_navigationId: integer (nullable = true)\n",
      " |-- data_landingPageUrl: string (nullable = true)\n",
      " |-- data_crossLinks: array (nullable = true)\n",
      " |    |-- element: struct (containsNull = true)\n",
      " |    |    |-- key: string (nullable = true)\n",
      " |    |    |-- value: string (nullable = true)\n",
      " |-- data_codEnabled: boolean (nullable = true)\n",
      "\n"
     ]
    }
   ],
   "source": [
    "# Drop unnecessary columns\n",
    "cleaned_df = flattened_df.drop(\n",
    "    \"data_articleAttributes_Pattern\",\n",
    "    \"data_articleAttributes_Body_or_Garment_Size\",\"data_visualTag\",\n",
    "    \"data_brandUserProfile\",\"notification\",\n",
    "    \"data_styleImages\" ,\n",
    "    \"data_styleImages\"\n",
    ")\n",
    "\n",
    "# Show the updated DataFrame\n",
    "cleaned_df.printSchema()"
   ]
  },
  {
   "cell_type": "code",
   "execution_count": 7,
   "id": "9b8601eb-72f2-4810-b53d-2608be7c34cc",
   "metadata": {},
   "outputs": [
    {
     "name": "stderr",
     "output_type": "stream",
     "text": [
      "[Stage 9:>                                                          (0 + 1) / 1]\r"
     ]
    },
    {
     "name": "stdout",
     "output_type": "stream",
     "text": [
      "+-----------+---------+---------------+-----+\n",
      "|data_season|data_year|data_baseColour|count|\n",
      "+-----------+---------+---------------+-----+\n",
      "|       Fall|     2012|      Navy Blue|   64|\n",
      "|     Winter|     2017|          Black|    3|\n",
      "|     Summer|     2012|      Navy Blue|  586|\n",
      "|     Summer|     2012|         Purple|  474|\n",
      "|       Fall|     2018|          White|    3|\n",
      "|       Fall|     2011|           Blue| 1338|\n",
      "|     Winter|     2012|   Coffee Brown|    3|\n",
      "|     Winter|     2011|         Yellow|    3|\n",
      "|     Spring|     2013|            Red|   14|\n",
      "|     Winter|     2012|          Brown|  168|\n",
      "|     Spring|     2013|          Black|   92|\n",
      "|     Summer|     2014|          Black|   34|\n",
      "|     Summer|     2015|         Orange|   10|\n",
      "|     Summer|     2018|          Black|   17|\n",
      "|     Summer|     2010|         Purple|    7|\n",
      "|       Fall|     2013|         Purple|    1|\n",
      "|     Summer|     2011|          Green|  307|\n",
      "|     Summer|     2008|           Grey|    1|\n",
      "|     Spring|     2013|         Silver|    5|\n",
      "|     Summer|     2016|          Brown|  109|\n",
      "+-----------+---------+---------------+-----+\n",
      "only showing top 20 rows\n",
      "\n"
     ]
    },
    {
     "name": "stderr",
     "output_type": "stream",
     "text": [
      "                                                                                \r"
     ]
    }
   ],
   "source": [
    "trends_df = cleaned_df.groupBy(\"data_season\", \"data_year\", \"data_baseColour\").count()\n",
    "trends_df.show()"
   ]
  },
  {
   "cell_type": "markdown",
   "id": "48851dde-5032-4f70-8fa3-c915db420f66",
   "metadata": {},
   "source": [
    "# INSIGHTS"
   ]
  },
  {
   "cell_type": "markdown",
   "id": "8c989a9a-ecc5-4fe7-aaf9-7847df157e14",
   "metadata": {},
   "source": [
    "## Company contributed to discount"
   ]
  },
  {
   "cell_type": "code",
   "execution_count": 10,
   "id": "e59ef890-e95e-4876-90a0-27dbea8eb99b",
   "metadata": {},
   "outputs": [
    {
     "name": "stderr",
     "output_type": "stream",
     "text": [
      "                                                                                \r"
     ]
    },
    {
     "name": "stdout",
     "output_type": "stream",
     "text": [
      "+-------------------------+---------------------+\n",
      "|data_brandName           |total_discountedPrice|\n",
      "+-------------------------+---------------------+\n",
      "|Nike                     |5918015              |\n",
      "|Puma                     |4419545              |\n",
      "|ADIDAS                   |3955147              |\n",
      "|United Colors of Benetton|2678491              |\n",
      "|Fossil                   |1698697              |\n",
      "|CASIO                    |1355145              |\n",
      "|FNF                      |1162341              |\n",
      "|French Connection        |1142081              |\n",
      "|Catwalk                  |1090089              |\n",
      "|Timberland               |1017409              |\n",
      "|Fastrack                 |976459               |\n",
      "|Lucera                   |967675               |\n",
      "|Reebok                   |946256               |\n",
      "|Titan                    |915410               |\n",
      "|Police                   |862318               |\n",
      "|Wrangler                 |819306               |\n",
      "|Lino Perros              |815590               |\n",
      "|Fabindia                 |804627               |\n",
      "|FILA                     |801003               |\n",
      "|Arrow                    |738790               |\n",
      "+-------------------------+---------------------+\n",
      "only showing top 20 rows\n",
      "\n"
     ]
    },
    {
     "name": "stderr",
     "output_type": "stream",
     "text": [
      "                                                                                \r"
     ]
    }
   ],
   "source": [
    "result_df = (\n",
    "    flattened_df.groupBy(\"data_brandName\")\n",
    "    .agg(sum(\"data_discountedPrice\").alias(\"total_discountedPrice\")).orderBy(col(\"total_discountedPrice\").desc())\n",
    ")\n",
    "\n",
    "result_df.show(truncate=False)\n",
    "if result_df.count() > 0:\n",
    "    total_discount = result_df.agg(sum(\"total_discountedPrice\").alias(\"grand_total\")).collect()[0][\"grand_total\"]\n",
    "\n",
    "    if total_discount and total_discount > 0:\n",
    "        result_with_percentage = result_df.withColumn(\n",
    "            \"percentage\",\n",
    "            (col(\"total_discountedPrice\") / total_discount) * 100,\n",
    "        )\n",
    "\n",
    "        plot_data = result_with_percentage.select(\"data_brandName\", \"percentage\").collect()\n",
    "    else:\n",
    "        print(\"Total discounted price is zero or invalid.\")\n",
    "else:\n",
    "    print(\"No data found after groupBy operation.\")"
   ]
  },
  {
   "cell_type": "code",
   "execution_count": 11,
   "id": "96397922-d1e3-4bc3-b4c1-7f791e754d44",
   "metadata": {},
   "outputs": [
    {
     "data": {
      "image/png": "[encoded data removed]",
      "text/plain": [
       "<Figure size 1000x800 with 1 Axes>"
      ]
     },
     "metadata": {},
     "output_type": "display_data"
    }
   ],
   "source": [
    "valid_data = [\n",
    "    row for row in plot_data \n",
    "    if isinstance(row[\"percentage\"], (int, float)) and not np.isnan(float(row[\"percentage\"])) and float(row[\"percentage\"]) >= 0\n",
    "]\n",
    "top_data = sorted(valid_data, key=lambda x: float(x[\"percentage\"]), reverse=True)[:10]\n",
    "labels = [row[\"data_brandName\"] for row in top_data]\n",
    "percentages = [float(row[\"percentage\"]) for row in top_data]\n",
    "\n",
    "plt.figure(figsize=(10, 8))\n",
    "plt.pie(\n",
    "    percentages,\n",
    "    labels=labels,\n",
    "    autopct='%1.1f%%',\n",
    "    startangle=140 \n",
    ")\n",
    "plt.title(\"Top 5 Percentage Discount Contribution by Brand\")\n",
    "plt.axis('equal')\n",
    "plt.show()"
   ]
  },
  {
   "cell_type": "markdown",
   "id": "a160a6e1-2399-4a5b-9cbf-e7ef2c346d2a",
   "metadata": {},
   "source": [
    "## 1] Top 10 Brands by Total Revenue"
   ]
  },
  {
   "cell_type": "code",
   "execution_count": 8,
   "id": "f0f1d220-cf89-4a7d-8c55-fa7c62de378a",
   "metadata": {},
   "outputs": [
    {
     "name": "stderr",
     "output_type": "stream",
     "text": [
      "[Stage 12:>                                                         (0 + 1) / 1]\r"
     ]
    },
    {
     "name": "stdout",
     "output_type": "stream",
     "text": [
      "+-------------------------+-------------+\n",
      "|data_brandName           |total_revenue|\n",
      "+-------------------------+-------------+\n",
      "|Nike                     |5918015      |\n",
      "|Puma                     |4419545      |\n",
      "|ADIDAS                   |3955147      |\n",
      "|United Colors of Benetton|2678491      |\n",
      "|Fossil                   |1698697      |\n",
      "|CASIO                    |1355145      |\n",
      "|FNF                      |1162341      |\n",
      "|French Connection        |1142081      |\n",
      "|Catwalk                  |1090089      |\n",
      "|Timberland               |1017409      |\n",
      "+-------------------------+-------------+\n",
      "only showing top 10 rows\n",
      "\n"
     ]
    },
    {
     "name": "stderr",
     "output_type": "stream",
     "text": [
      "                                                                                \r"
     ]
    }
   ],
   "source": [
    "# Calculate total revenue (price * quantity) for each brand\n",
    "top_brands_revenue = cleaned_df.groupBy(\"data_brandName\") \\\n",
    "    .agg(F.sum(F.col(\"data_discountedPrice\")).alias(\"total_revenue\")) \\\n",
    "    .orderBy(F.desc(\"total_revenue\"))\n",
    "\n",
    "top_brands_revenue.show(10, truncate=False)"
   ]
  },
  {
   "cell_type": "markdown",
   "id": "84f292c8-df75-48a9-a07f-7b3068c75a7d",
   "metadata": {},
   "source": [
    "## 2]Finding the Highest Priced Product "
   ]
  },
  {
   "cell_type": "code",
   "execution_count": 12,
   "id": "98f55d5e-d90b-487b-bc36-e112cd02e379",
   "metadata": {},
   "outputs": [
    {
     "name": "stdout",
     "output_type": "stream",
     "text": [
      "Enter your Brand:  Nike\n"
     ]
    },
    {
     "name": "stderr",
     "output_type": "stream",
     "text": [
      "[Stage 37:===================================================>(1386 + 3) / 1389]\r"
     ]
    },
    {
     "name": "stdout",
     "output_type": "stream",
     "text": [
      "The data_id with the highest data_price for Nike is: INR 44235\n",
      "Details of the product with the highest price:\n",
      "Price: INR 12995\n",
      "Product Display Name: Nike Men Air Max+ 2012 Blue Sports Shoes\n",
      "Brand Name: Nike\n",
      "Age Group: Adults-Men\n",
      "Gender: Men\n",
      "Display Categories: Footwear\n"
     ]
    },
    {
     "name": "stderr",
     "output_type": "stream",
     "text": [
      "                                                                                \r"
     ]
    }
   ],
   "source": [
    "from pyspark.sql import functions as F\n",
    "import matplotlib.pyplot as plt\n",
    "from PIL import Image\n",
    "import os\n",
    "\n",
    "brand = input(str(\"Enter your Brand: \"))\n",
    "# Step 1: Filter rows where brand is \"Nike\"\n",
    "nike_data = cleaned_df.filter(cleaned_df['data_brandName'] == brand)\n",
    "\n",
    "# Step 2: Find the row with the highest data_price\n",
    "# Use PySpark to find the row with the highest price\n",
    "max_price_row = nike_data.orderBy(F.desc(\"data_price\")).limit(1).collect()[0]\n",
    "\n",
    "# Extract values from the row\n",
    "highest_price_id = max_price_row['data_id']\n",
    "data_price = max_price_row['data_price']\n",
    "data_productDisplayName = max_price_row['data_productDisplayName']\n",
    "data_brandName = max_price_row['data_brandName']\n",
    "data_ageGroup = max_price_row['data_ageGroup']\n",
    "data_gender = max_price_row['data_gender']\n",
    "data_displayCategories = max_price_row['data_displayCategories']\n",
    "\n",
    "# Print the respective values\n",
    "print(f\"The data_id with the highest data_price for {brand} is: INR {highest_price_id}\")\n",
    "print(f\"Details of the product with the highest price:\")\n",
    "print(f\"Price: INR {data_price}\")\n",
    "print(f\"Product Display Name: {data_productDisplayName}\")\n",
    "print(f\"Brand Name: {data_brandName}\")\n",
    "print(f\"Age Group: {data_ageGroup}\")\n",
    "print(f\"Gender: {data_gender}\")\n",
    "print(f\"Display Categories: {data_displayCategories}\")\n",
    "\n",
    "\n"
   ]
  },
  {
   "cell_type": "markdown",
   "id": "677e2982-d5ec-43a8-bbf9-90b968e67abc",
   "metadata": {},
   "source": [
    "## 3]Profitability Metrics by Category"
   ]
  },
  {
   "cell_type": "code",
   "execution_count": 32,
   "id": "6986a974-4c43-4df2-bac5-255224659a0d",
   "metadata": {},
   "outputs": [
    {
     "name": "stderr",
     "output_type": "stream",
     "text": [
      "[Stage 112:>                                                        (0 + 1) / 1]\r"
     ]
    },
    {
     "name": "stdout",
     "output_type": "stream",
     "text": [
      "+---------------------------------------------------------------------+------------------+------------+-------------+\n",
      "|data_displayCategories                                               |avg_vat           |sales_volume|total_revenue|\n",
      "+---------------------------------------------------------------------+------------------+------------+-------------+\n",
      "|Accessories                                                          |13.592643194955334|9515        |21463790     |\n",
      "|Footwear                                                             |14.498714836498644|7003        |16953850     |\n",
      "|Casual Wear                                                          |5.501028101439342 |8754        |9572107      |\n",
      "|NULL                                                                 |9.952228749136143 |5788        |7395242      |\n",
      "|Footwear,Sale                                                        |14.389261744966444|894         |2430895      |\n",
      "|Ethnic Wear                                                          |5.5               |2082        |1886113      |\n",
      "|Casual Wear,Sale                                                     |5.5               |1489        |1518705      |\n",
      "|Casual Wear,Winterwear                                               |5.5               |649         |1281982      |\n",
      "|Sports Wear                                                          |5.540723981900452 |884         |1214576      |\n",
      "|Formal Wear                                                          |5.5               |1012        |1191554      |\n",
      "|Accessories,Sale                                                     |12.941558441558442|462         |589937       |\n",
      "|Innerwear                                                            |8.025538461538462 |1625        |555310       |\n",
      "|Sports Shoes,Footwear and Clearance,Sale and Clearance,Footwear,Sale |14.5              |143         |509620       |\n",
      "|Sports Shoes,Footwear                                                |14.5              |99          |374836       |\n",
      "|Sale and Clearance,Footwear,Sale                                     |14.409090909090908|99          |346462       |\n",
      "|Sports Wear,Winterwear                                               |5.589108910891089 |101         |324167       |\n",
      "|Sports Wear,Sale                                                     |5.544334975369458 |203         |290207       |\n",
      "|Tshirts,Casual Wear and Clearance,Sale and Clearance,Casual Wear,Sale|5.5               |384         |259297       |\n",
      "|Footwear and Clearance,Sale and Clearance,Footwear,Sale              |14.5              |95          |221314       |\n",
      "|Shirts,Casual Wear                                                   |5.5               |134         |206887       |\n",
      "+---------------------------------------------------------------------+------------------+------------+-------------+\n",
      "only showing top 20 rows\n",
      "\n"
     ]
    },
    {
     "name": "stderr",
     "output_type": "stream",
     "text": [
      "                                                                                \r"
     ]
    }
   ],
   "source": [
    "# Calculate profitability by category\n",
    "category_profitability = cleaned_df.groupBy(\"data_displayCategories\").agg(\n",
    "    avg(\"data_vat\").alias(\"avg_vat\"),\n",
    "    count(\"*\").alias(\"sales_volume\"),\n",
    "    sum(\"data_discountedPrice\").alias(\"total_revenue\")\n",
    ").orderBy(col(\"total_revenue\").desc())\n",
    "\n",
    "# Show results\n",
    "category_profitability.show(truncate=False)"
   ]
  },
  {
   "cell_type": "markdown",
   "id": "a3ce1a60-7ff0-4eef-a74e-aba7e56423b5",
   "metadata": {},
   "source": [
    "## 4] Top Brands by Usage Segment and Gender"
   ]
  },
  {
   "cell_type": "code",
   "execution_count": 36,
   "id": "a64d06cf-a555-440a-9f2c-3910c3a5030d",
   "metadata": {},
   "outputs": [
    {
     "name": "stderr",
     "output_type": "stream",
     "text": [
      "                                                                                \r"
     ]
    },
    {
     "data": {
      "text/plain": [
       "960"
      ]
     },
     "execution_count": 36,
     "metadata": {},
     "output_type": "execute_result"
    }
   ],
   "source": [
    "top_brands_segment = cleaned_df.groupBy(\"data_brandName\", \"data_usage\", \"data_gender\").agg(\n",
    "    count(\"*\").alias(\"usage_count\")\n",
    ").orderBy(\"usage_count\", ascending=False)\n",
    "\n",
    "# Show results\n",
    "top_brands_segment.show(truncate=False)"
   ]
  },
  {
   "cell_type": "markdown",
   "id": "751b0e3a-3eb8-4a8e-8a02-9699ec47608b",
   "metadata": {},
   "source": [
    "## 5] Best-Selling Categories by Gender"
   ]
  },
  {
   "cell_type": "code",
   "execution_count": 35,
   "id": "5cb4881e-7ce2-4443-9668-ea01cdacbe58",
   "metadata": {},
   "outputs": [
    {
     "name": "stderr",
     "output_type": "stream",
     "text": [
      "[Stage 118:>                                                        (0 + 1) / 1]\r"
     ]
    },
    {
     "name": "stdout",
     "output_type": "stream",
     "text": [
      "+-----------+----------------------+-----+\n",
      "|data_gender|data_displayCategories|count|\n",
      "+-----------+----------------------+-----+\n",
      "|        Men|           Casual Wear| 4861|\n",
      "|        Men|              Footwear| 4566|\n",
      "|      Women|                  NULL| 4458|\n",
      "|        Men|           Accessories| 4215|\n",
      "|      Women|           Accessories| 4184|\n",
      "|      Women|           Casual Wear| 2954|\n",
      "|      Women|           Ethnic Wear| 1986|\n",
      "|      Women|              Footwear| 1951|\n",
      "|     Unisex|           Accessories| 1087|\n",
      "|        Men|                  NULL| 1011|\n",
      "|        Men|           Formal Wear|  953|\n",
      "|        Men|      Casual Wear,Sale|  951|\n",
      "|        Men|             Innerwear|  833|\n",
      "|      Women|             Innerwear|  783|\n",
      "|        Men|           Sports Wear|  708|\n",
      "|        Men|         Footwear,Sale|  591|\n",
      "|       Boys|           Casual Wear|  548|\n",
      "|      Women|      Casual Wear,Sale|  479|\n",
      "|        Men|  Casual Wear,Winte...|  475|\n",
      "|      Girls|           Casual Wear|  384|\n",
      "+-----------+----------------------+-----+\n",
      "only showing top 20 rows\n",
      "\n"
     ]
    },
    {
     "name": "stderr",
     "output_type": "stream",
     "text": [
      "                                                                                \r"
     ]
    }
   ],
   "source": [
    "# Best-selling categories by gender\n",
    "cleaned_df.groupBy(\"data_gender\", \"data_displayCategories\") \\\n",
    "       .count() \\\n",
    "       .orderBy(\"count\", ascending=False) \\\n",
    "       .show(20)\n"
   ]
  },
  {
   "cell_type": "markdown",
   "id": "9d5b967d-75db-43a1-95c2-a5b877421b51",
   "metadata": {},
   "source": [
    "## 6] Total Revenue by Base Color [popularity]"
   ]
  },
  {
   "cell_type": "code",
   "execution_count": 41,
   "id": "6a95cfd3-624f-4ce3-9ed4-d0be7315a355",
   "metadata": {},
   "outputs": [
    {
     "name": "stderr",
     "output_type": "stream",
     "text": [
      "                                                                                \r"
     ]
    },
    {
     "name": "stdout",
     "output_type": "stream",
     "text": [
      "Showing 20 from  47 \n",
      "=====================================================================\n"
     ]
    },
    {
     "name": "stderr",
     "output_type": "stream",
     "text": [
      "[Stage 133:>                                                        (0 + 1) / 1]\r"
     ]
    },
    {
     "name": "stdout",
     "output_type": "stream",
     "text": [
      "+---------------+-------------+\n",
      "|data_baseColour|total_revenue|\n",
      "+---------------+-------------+\n",
      "|Black          |19197911     |\n",
      "|White          |10425403     |\n",
      "|Blue           |6585835      |\n",
      "|Brown          |6262574      |\n",
      "|Grey           |4572663      |\n",
      "|Silver         |3215362      |\n",
      "|Red            |2998091      |\n",
      "|Green          |2422765      |\n",
      "|Navy Blue      |2233161      |\n",
      "|Purple         |1988349      |\n",
      "|Pink           |1861297      |\n",
      "|Gold           |1200152      |\n",
      "|Beige          |1016312      |\n",
      "|Steel          |987989       |\n",
      "|Yellow         |804199       |\n",
      "|Maroon         |672562       |\n",
      "|Orange         |656709       |\n",
      "|Olive          |650430       |\n",
      "|Cream          |577971       |\n",
      "|Multi          |563600       |\n",
      "+---------------+-------------+\n",
      "only showing top 20 rows\n",
      "\n"
     ]
    },
    {
     "name": "stderr",
     "output_type": "stream",
     "text": [
      "                                                                                \r"
     ]
    }
   ],
   "source": [
    "# Group by base color and calculate total revenue\n",
    "color_revenue = cleaned_df.groupBy(\"data_baseColour\").agg(\n",
    "    sum(\"data_discountedPrice\").alias(\"total_revenue\")\n",
    ").orderBy(\"total_revenue\", ascending=False)\n",
    "\n",
    "# Show the results\n",
    "color_revenue.show(truncate=False)"
   ]
  },
  {
   "cell_type": "markdown",
   "id": "e29cc688-46d7-490d-b6a4-05e40d30871b",
   "metadata": {},
   "source": [
    "## 7] Seasonal Trends in Average Discounted Pricing"
   ]
  },
  {
   "cell_type": "code",
   "execution_count": 42,
   "id": "602cfab5-d4b0-4cc0-b3b3-326a30cbc848",
   "metadata": {},
   "outputs": [
    {
     "name": "stderr",
     "output_type": "stream",
     "text": [
      "                                                                                \r"
     ]
    },
    {
     "data": {
      "image/png": "[encoded data removed]",
      "text/plain": [
       "<Figure size 800x500 with 1 Axes>"
      ]
     },
     "metadata": {},
     "output_type": "display_data"
    }
   ],
   "source": [
    "# Calculate the average discounted price by season\n",
    "seasonal_price = cleaned_df.groupBy(\"data_season\") \\\n",
    "    .agg(F.avg(\"data_discountedPrice\").alias(\"avg_discounted_price\")) \\\n",
    "    .orderBy(\"data_season\")\n",
    "\n",
    "# Convert to Pandas for visualization\n",
    "seasonal_price_pd = seasonal_price.toPandas()\n",
    "\n",
    "# Visualization: Line graph\n",
    "plt.figure(figsize=(8, 5))\n",
    "sns.lineplot(data=seasonal_price_pd, x=\"data_season\", y=\"avg_discounted_price\", marker=\"o\")\n",
    "plt.title(\"Seasonal Trends in Pricing\")\n",
    "plt.ylabel(\"Average Discounted Price\")\n",
    "plt.xlabel(\"Season\")\n",
    "plt.xticks(rotation=45)\n",
    "plt.tight_layout()\n",
    "plt.show()"
   ]
  },
  {
   "cell_type": "markdown",
   "id": "ea50abe1-01ba-458d-9996-238b3460f1e4",
   "metadata": {},
   "source": [
    "## 8] Usage Analysis by Season and Category"
   ]
  },
  {
   "cell_type": "code",
   "execution_count": 44,
   "id": "52ee5f68-2270-4a52-a1ea-8dafe2188de5",
   "metadata": {},
   "outputs": [
    {
     "name": "stderr",
     "output_type": "stream",
     "text": [
      "[Stage 144:>                                                        (0 + 1) / 1]\r"
     ]
    },
    {
     "name": "stdout",
     "output_type": "stream",
     "text": [
      "+-----------+------------+-----------+\n",
      "|data_season|data_usage  |usage_count|\n",
      "+-----------+------------+-----------+\n",
      "|Winter     |Casual      |7995       |\n",
      "|Winter     |Formal      |247        |\n",
      "|Winter     |Sports      |117        |\n",
      "|Winter     |Ethnic      |105        |\n",
      "|Winter     |Smart Casual|32         |\n",
      "|Winter     |Travel      |12         |\n",
      "|Winter     |NA          |5          |\n",
      "|Winter     |Party       |5          |\n",
      "|Winter     |            |1          |\n",
      "|Summer     |Casual      |16313      |\n",
      "|Summer     |Sports      |2135       |\n",
      "|Summer     |Ethnic      |1887       |\n",
      "|Summer     |Formal      |1079       |\n",
      "|Summer     |NA          |30         |\n",
      "|Summer     |Travel      |12         |\n",
      "|Summer     |Smart Casual|10         |\n",
      "|Summer     |Party       |10         |\n",
      "|Spring     |Casual      |2554       |\n",
      "|Spring     |NA          |270        |\n",
      "|Spring     |Sports      |110        |\n",
      "+-----------+------------+-----------+\n",
      "only showing top 20 rows\n",
      "\n"
     ]
    },
    {
     "name": "stderr",
     "output_type": "stream",
     "text": [
      "                                                                                \r"
     ]
    }
   ],
   "source": [
    "# Group by season and usage\n",
    "season_usage_analysis = cleaned_df.groupBy(\"data_season\", \"data_usage\").agg(\n",
    "    count(\"*\").alias(\"usage_count\")\n",
    ")\n",
    "\n",
    "# Show the result\n",
    "season_usage_analysis.orderBy(\"data_season\", \"usage_count\", ascending=False).show(truncate=False)"
   ]
  },
  {
   "cell_type": "markdown",
   "id": "98fe7ee3-b6fa-44f9-8590-70d9d0b6368d",
   "metadata": {},
   "source": [
    "## 9]Top Products by Revenue and Season"
   ]
  },
  {
   "cell_type": "code",
   "execution_count": 45,
   "id": "423a6312-5142-4077-916f-40aa2c1b3633",
   "metadata": {},
   "outputs": [
    {
     "name": "stderr",
     "output_type": "stream",
     "text": [
      "[Stage 147:>                                                        (0 + 4) / 4]\r"
     ]
    },
    {
     "name": "stdout",
     "output_type": "stream",
     "text": [
      "+-----------+----------------------------------------------+-------------+\n",
      "|data_season|data_productDisplayName                       |total_revenue|\n",
      "+-----------+----------------------------------------------+-------------+\n",
      "|Winter     |Nautica Men Black Dial Chronograph Watch      |156435       |\n",
      "|Winter     |Timex Men Black Dial Watch                    |120140       |\n",
      "|Winter     |Titan Men White Dial Watch                    |105200       |\n",
      "|Winter     |Giordano Men Black Dial Watch                 |102528       |\n",
      "|Winter     |Morellato Men Silver Dial Watch               |83250        |\n",
      "|Winter     |Fastrack Men Black Dial Watch                 |78745        |\n",
      "|Winter     |Ed Hardy Men Black Dial Watch                 |74980        |\n",
      "|Winter     |Citizen Men Black Dial Chronograph Watch      |73200        |\n",
      "|Winter     |Titan Men Black Dial Watch                    |72930        |\n",
      "|Winter     |Catwalk Women Black Heels                     |70485        |\n",
      "|Winter     |Miss Sixty Silver Dial Watch                  |68660        |\n",
      "|Winter     |Ray-Ban Men Aviator Sunglasses                |68616        |\n",
      "|Winter     |Titan Men Black Watch                         |68110        |\n",
      "|Winter     |Red Tape Men Brown Shoes                      |64370        |\n",
      "|Winter     |Citizen Men Black Dial Eco-Drive Watch        |63600        |\n",
      "|Winter     |Maxima Men White Dial Watch                   |63574        |\n",
      "|Winter     |Giordano Men White Dial Watch                 |62396        |\n",
      "|Winter     |Ray-Ban Men Aviator Gold Sunglasses           |60723        |\n",
      "|Winter     |Citizen Women White Dial Watch                |59700        |\n",
      "|Winter     |United Colors of Benetton Men Black Sunglasses|58005        |\n",
      "+-----------+----------------------------------------------+-------------+\n",
      "only showing top 20 rows\n",
      "\n"
     ]
    },
    {
     "name": "stderr",
     "output_type": "stream",
     "text": [
      "                                                                                \r"
     ]
    }
   ],
   "source": [
    "# Calculate total revenue for each product by season\n",
    "top_products_season = cleaned_df.groupBy(\"data_season\", \"data_productDisplayName\").agg(\n",
    "    sum(\"data_discountedPrice\").alias(\"total_revenue\")\n",
    ").orderBy(\"data_season\", \"total_revenue\", ascending=False)\n",
    "\n",
    "# Show the top products by season\n",
    "top_products_season.show(truncate=False)"
   ]
  },
  {
   "cell_type": "markdown",
   "id": "a11785c5-3cf1-4927-8253-a7dc4045ebbd",
   "metadata": {},
   "source": [
    "## 10] Seasonal and Yearly Distribution of Base Colors in Products"
   ]
  },
  {
   "cell_type": "code",
   "execution_count": 46,
   "id": "55a6c282-36e1-465b-8c4e-6c35a61ce9f1",
   "metadata": {},
   "outputs": [
    {
     "name": "stderr",
     "output_type": "stream",
     "text": [
      "[Stage 150:>                                                        (0 + 1) / 1]\r"
     ]
    },
    {
     "name": "stdout",
     "output_type": "stream",
     "text": [
      "+-----------+---------+---------------+-----+\n",
      "|data_season|data_year|data_baseColour|count|\n",
      "+-----------+---------+---------------+-----+\n",
      "|       Fall|     2012|      Navy Blue|   64|\n",
      "|     Winter|     2017|          Black|    3|\n",
      "|     Summer|     2012|      Navy Blue|  586|\n",
      "|     Summer|     2012|         Purple|  474|\n",
      "|       Fall|     2018|          White|    3|\n",
      "|       Fall|     2011|           Blue| 1338|\n",
      "|     Winter|     2012|   Coffee Brown|    3|\n",
      "|     Winter|     2011|         Yellow|    3|\n",
      "|     Spring|     2013|            Red|   14|\n",
      "|     Winter|     2012|          Brown|  168|\n",
      "|     Spring|     2013|          Black|   92|\n",
      "|     Summer|     2014|          Black|   34|\n",
      "|     Summer|     2015|         Orange|   10|\n",
      "|     Summer|     2018|          Black|   17|\n",
      "|     Summer|     2010|         Purple|    7|\n",
      "|       Fall|     2013|         Purple|    1|\n",
      "|     Summer|     2011|          Green|  307|\n",
      "|     Summer|     2008|           Grey|    1|\n",
      "|     Spring|     2013|         Silver|    5|\n",
      "|     Summer|     2016|          Brown|  109|\n",
      "+-----------+---------+---------------+-----+\n",
      "only showing top 20 rows\n",
      "\n"
     ]
    },
    {
     "name": "stderr",
     "output_type": "stream",
     "text": [
      "                                                                                \r"
     ]
    }
   ],
   "source": [
    "trends_df = cleaned_df.groupBy(\"data_season\", \"data_year\", \"data_baseColour\").count()\n",
    "trends_df.show()"
   ]
  },
  {
   "cell_type": "markdown",
   "id": "5e737aa3-f4b5-412b-a107-629545fff1ef",
   "metadata": {},
   "source": [
    "## 11] Multi-Level Revenue and Sales Count by Brand, Style, and Season"
   ]
  },
  {
   "cell_type": "code",
   "execution_count": null,
   "id": "4f238528-a3e6-44ea-aefd-bf3f04d2cee5",
   "metadata": {},
   "outputs": [],
   "source": [
    "# Calculate revenue by brand, style type, and season\n",
    "brand_diversification = cleaned_df.groupBy(\"data_brandName\", \"data_season\", \"data_styleType\").agg(\n",
    "    sum(\"data_discountedPrice\").alias(\"total_revenue\"),\n",
    "    count(\"*\").alias(\"product_count\")\n",
    ").orderBy(\"data_brandName\", \"data_season\", \"total_revenue\", ascending=False)\n",
    "\n",
    "# Show the results\n",
    "brand_diversification.show(truncate=False)"
   ]
  },
  {
   "cell_type": "markdown",
   "id": "1df0b092-f118-4155-a6f3-f881476e6509",
   "metadata": {},
   "source": [
    "## 12]Customer Segmentation by Spending Levels"
   ]
  },
  {
   "cell_type": "code",
   "execution_count": 9,
   "id": "5e733ad9-cc94-47eb-be9c-ddb9837a5795",
   "metadata": {},
   "outputs": [
    {
     "name": "stderr",
     "output_type": "stream",
     "text": [
      "[Stage 10:>                                                         (0 + 2) / 2]\r"
     ]
    },
    {
     "name": "stdout",
     "output_type": "stream",
     "text": [
      "+----------------+--------------+------------------+\n",
      "|spending_segment|customer_count|avg_spent         |\n",
      "+----------------+--------------+------------------+\n",
      "|Medium Spender  |1764          |7012.326530612245 |\n",
      "|High Spender    |203           |12590.536945812808|\n",
      "|Low Spender     |42479         |1338.4696074044418|\n",
      "+----------------+--------------+------------------+\n",
      "\n"
     ]
    },
    {
     "name": "stderr",
     "output_type": "stream",
     "text": [
      "                                                                                \r"
     ]
    }
   ],
   "source": [
    "# Group customers by total spending\n",
    "customer_segments = cleaned_df.groupBy(\"data_id\").agg(\n",
    "    sum(\"data_discountedPrice\").alias(\"total_spent\")\n",
    ").withColumn(\n",
    "    \"spending_segment\",\n",
    "    when(col(\"total_spent\") > 10000, \"High Spender\")\n",
    "    .when(col(\"total_spent\") > 5000, \"Medium Spender\")\n",
    "    .otherwise(\"Low Spender\")\n",
    ").groupBy(\"spending_segment\").agg(\n",
    "    count(\"*\").alias(\"customer_count\"),\n",
    "    avg(\"total_spent\").alias(\"avg_spent\")\n",
    ")\n",
    "\n",
    "# Show the results\n",
    "customer_segments.show(truncate=False)"
   ]
  },
  {
   "cell_type": "markdown",
   "id": "15de2e7d-034e-4426-908e-2b97094f4549",
   "metadata": {},
   "source": [
    "## 13] Pricing Analysis by Gender, Season, and Price Range"
   ]
  },
  {
   "cell_type": "code",
   "execution_count": null,
   "id": "1ac59a0d-3696-4425-8cc3-6e037529c70b",
   "metadata": {},
   "outputs": [],
   "source": [
    "# Group products into price ranges\n",
    "pricing_analysis = cleaned_df.withColumn(\n",
    "    \"price_range\",\n",
    "    when(col(\"data_discountedPrice\") < 500, \"<500\")\n",
    "    .when((col(\"data_discountedPrice\") >= 500) & (col(\"data_discountedPrice\") < 1500), \"500-1500\")\n",
    "    .when((col(\"data_discountedPrice\") >= 1500) & (col(\"data_discountedPrice\") < 3000), \"1500-3000\")\n",
    "    .otherwise(\">3000\")\n",
    ").groupBy(\"data_gender\", \"data_season\", \"price_range\").agg(\n",
    "    count(\"*\").alias(\"sales_count\"),\n",
    "    sum(\"data_discountedPrice\").alias(\"total_revenue\")\n",
    ").orderBy(\"data_gender\", \"data_season\", col(\"sales_count\").desc())\n",
    "\n",
    "# Show results\n",
    "pricing_analysis.show(truncate=False)"
   ]
  },
  {
   "cell_type": "markdown",
   "id": "a6a557e6-cc03-4c33-9b0b-313b8739202a",
   "metadata": {},
   "source": [
    "## 14] Discount Analysis by Range, Sales Count, and Total Revenue"
   ]
  },
  {
   "cell_type": "code",
   "execution_count": null,
   "id": "50967f91-0580-415c-82fe-eba4f9540b01",
   "metadata": {},
   "outputs": [],
   "source": [
    "from pyspark.sql.functions import when, col\n",
    "\n",
    "# Calculate optimal discount range\n",
    "discount_analysis = cleaned_df.withColumn(\n",
    "    \"discount_percentage\",\n",
    "    ((col(\"label\") - col(\"data_discountedPrice\")) / col(\"label\")) * 100\n",
    ").withColumn(\n",
    "    \"discount_range\",\n",
    "    when(col(\"discount_percentage\") < 10, \"<10%\")\n",
    "    .when((col(\"discount_percentage\") >= 10) & (col(\"discount_percentage\") < 30), \"10-30%\")\n",
    "    .when((col(\"discount_percentage\") >= 30) & (col(\"discount_percentage\") < 50), \"30-50%\")\n",
    "    .otherwise(\">50%\")\n",
    ").groupBy(\"discount_range\").agg(\n",
    "    count(\"*\").alias(\"sales_count\"),\n",
    "    sum(\"data_discountedPrice\").alias(\"total_revenue\")\n",
    ").orderBy(col(\"sales_count\").desc())\n",
    "\n",
    "# Show results\n",
    "discount_analysis.show(truncate=False)"
   ]
  },
  {
   "cell_type": "markdown",
   "id": "03679d1f-b601-4124-b3cc-5944cf7dca41",
   "metadata": {},
   "source": [
    "## 15] Customer Loyalty Analysis"
   ]
  },
  {
   "cell_type": "code",
   "execution_count": 6,
   "id": "adef0339-7b77-447e-8c9a-9c0ff15dfd87",
   "metadata": {},
   "outputs": [
    {
     "name": "stderr",
     "output_type": "stream",
     "text": [
      "                                                                                \r"
     ]
    },
    {
     "name": "stdout",
     "output_type": "stream",
     "text": [
      "+-------+-----------+-------------+----------------+-----------+\n",
      "|data_id|data_gender|data_ageGroup|unique_purchases|total_spent|\n",
      "+-------+-----------+-------------+----------------+-----------+\n",
      "|35288  |Unisex     |Adults-Unisex|1               |28950      |\n",
      "|35282  |Unisex     |Adults-Unisex|1               |21950      |\n",
      "|52686  |Men        |Adults-Men   |1               |21220      |\n",
      "|59253  |Men        |Adults-Men   |1               |18995      |\n",
      "|5062   |Men        |Adults-Men   |1               |18900      |\n",
      "|28438  |Women      |Adults-Women |1               |17995      |\n",
      "|53014  |Women      |Adults-Women |1               |17500      |\n",
      "|52691  |Women      |Adults-Women |1               |17150      |\n",
      "|52690  |Women      |Adults-Women |1               |17000      |\n",
      "|29945  |Men        |Adults-Men   |1               |16450      |\n",
      "|29923  |Men        |Adults-Men   |1               |15550      |\n",
      "|51639  |Men        |Adults-Men   |1               |15495      |\n",
      "|53020  |Women      |Adults-Women |1               |15426      |\n",
      "|29951  |Men        |Adults-Men   |1               |15350      |\n",
      "|29937  |Men        |Adults-Men   |1               |15350      |\n",
      "|29950  |Men        |Adults-Men   |1               |15350      |\n",
      "|29944  |Men        |Adults-Men   |1               |15350      |\n",
      "|29934  |Women      |Adults-Women |1               |15350      |\n",
      "|53016  |Women      |Adults-Women |1               |15150      |\n",
      "|52688  |Women      |Adults-Women |1               |15050      |\n",
      "+-------+-----------+-------------+----------------+-----------+\n",
      "only showing top 20 rows\n",
      "\n"
     ]
    }
   ],
   "source": [
    "# Count distinct products purchased by each customer\n",
    "customer_loyalty = cleaned_df.groupBy(\"data_id\", \"data_gender\", \"data_ageGroup\").agg(\n",
    "    countDistinct(\"data_productDisplayName\").alias(\"unique_purchases\"),\n",
    "    sum(\"data_discountedPrice\").alias(\"total_spent\")\n",
    ").orderBy(\"total_spent\", ascending=False)\n",
    "\n",
    "# Show the results\n",
    "customer_loyalty.show(truncate=False)"
   ]
  },
  {
   "cell_type": "markdown",
   "id": "e2be3ed4-695f-4a5c-9125-c1bacc77d002",
   "metadata": {},
   "source": [
    " ## 16] Potential Revenue Loss."
   ]
  },
  {
   "cell_type": "code",
   "execution_count": 16,
   "id": "cb5b5ca7-40fe-406f-8170-14307ba70b3d",
   "metadata": {},
   "outputs": [
    {
     "name": "stderr",
     "output_type": "stream",
     "text": [
      "[Stage 9:>                                                          (0 + 1) / 1]\r"
     ]
    },
    {
     "name": "stdout",
     "output_type": "stream",
     "text": [
      "+----------------------------------------------+-------------------------+------------+----------------------+\n",
      "|data_productDisplayName                       |data_brandName           |unsold_count|potential_revenue_loss|\n",
      "+----------------------------------------------+-------------------------+------------+----------------------+\n",
      "|Nautica Men Black Dial Chronograph Watch      |Nautica                  |13          |156435                |\n",
      "|Timex Men Black Dial Watch                    |Timex                    |22          |120140                |\n",
      "|Giordano Men Black Dial Watch                 |GIORDANO                 |19          |110450                |\n",
      "|Titan Men White Dial Watch                    |Titan                    |26          |105200                |\n",
      "|Morellato Men Silver Dial Watch               |Morellato                |9           |83250                 |\n",
      "|Fastrack Men Black Dial Watch                 |Fastrack                 |41          |78745                 |\n",
      "|Giordano Men White Dial Watch                 |GIORDANO                 |14          |76400                 |\n",
      "|Ray-Ban Men Aviator Sunglasses                |Ray-Ban                  |16          |76240                 |\n",
      "|Ed Hardy Men Black Dial Watch                 |Ed Hardy                 |8           |74980                 |\n",
      "|Citizen Men Black Dial Chronograph Watch      |Citizen                  |7           |73200                 |\n",
      "|Titan Men Black Dial Watch                    |Titan                    |15          |72930                 |\n",
      "|Catwalk Women Black Heels                     |Catwalk                  |43          |70485                 |\n",
      "|Miss Sixty Silver Dial Watch                  |MISS SIXTY               |8           |68660                 |\n",
      "|Titan Men Black Watch                         |Titan                    |16          |68110                 |\n",
      "|Ray-Ban Men Aviator Gold Sunglasses           |Ray-Ban                  |13          |67470                 |\n",
      "|United Colors of Benetton Men Black Sunglasses|United Colors of Benetton|18          |64450                 |\n",
      "|Red Tape Men Brown Shoes                      |Red Tape                 |26          |64370                 |\n",
      "|Polaroid Men Sunglasses                       |Polaroid                 |18          |64291                 |\n",
      "|Citizen Men Black Dial Eco-Drive Watch        |Citizen                  |6           |63600                 |\n",
      "|Maxima Men White Dial Watch                   |maxima                   |37          |63574                 |\n",
      "+----------------------------------------------+-------------------------+------------+----------------------+\n",
      "only showing top 20 rows\n",
      "\n"
     ]
    },
    {
     "name": "stderr",
     "output_type": "stream",
     "text": [
      "                                                                                \r"
     ]
    }
   ],
   "source": [
    "# Filter for unsold winter products from previous years\n",
    "unsold_products = cleaned_df.filter(\n",
    "    (col(\"data_year\") < 2023) & (col(\"data_season\") == \"Winter\")\n",
    ").groupBy(\"data_productDisplayName\", \"data_brandName\").agg(\n",
    "    count(\"*\").alias(\"unsold_count\"),\n",
    "    sum(\"data_price\").alias(\"potential_revenue_loss\")\n",
    ").orderBy(col(\"potential_revenue_loss\").desc())\n",
    "\n",
    "# Show results\n",
    "\n",
    "unsold_products.show(truncate=False)"
   ]
  },
  {
   "cell_type": "markdown",
   "id": "5e86902f-e7e7-47ac-949f-1a91983ca9b4",
   "metadata": {},
   "source": [
    "# - Machine Leaning"
   ]
  },
  {
   "cell_type": "code",
   "execution_count": 8,
   "id": "18e16817-01f2-4457-b304-e7ef69caf1f3",
   "metadata": {},
   "outputs": [
    {
     "name": "stderr",
     "output_type": "stream",
     "text": [
      "                                                                                \r"
     ]
    }
   ],
   "source": [
    "cleaned_df = cleaned_df.withColumn(\"data_year\", col(\"data_year\").cast(\"int\"))"
   ]
  },
  {
   "cell_type": "code",
   "execution_count": 9,
   "id": "5b79f0eb-3448-4243-8b71-421a559202a1",
   "metadata": {},
   "outputs": [
    {
     "name": "stderr",
     "output_type": "stream",
     "text": [
      "                                                                                \r"
     ]
    },
    {
     "name": "stdout",
     "output_type": "stream",
     "text": [
      "+--------------------+----------+\n",
      "|            features|data_price|\n",
      "+--------------------+----------+\n",
      "|[0.0,1.0,2.0,4999...|      4999|\n",
      "|[0.0,86.0,7.0,119...|      1199|\n",
      "|[0.0,47.0,8.0,159...|      1590|\n",
      "|[0.0,18.0,0.0,209...|      2099|\n",
      "|[0.0,18.0,2.0,209...|      2099|\n",
      "+--------------------+----------+\n",
      "only showing top 5 rows\n",
      "\n"
     ]
    }
   ],
   "source": [
    "from pyspark.ml.feature import StringIndexer, VectorAssembler\n",
    "\n",
    "# Step 1: Index Categorical Features\n",
    "indexer = StringIndexer(inputCols=[\"data_fashionType\", \"data_brandName\", \"data_baseColour\"],\n",
    "                        outputCols=[\"fashionType_index\", \"brandName_index\", \"baseColour_index\"])\n",
    "\n",
    "indexed_df = indexer.fit(cleaned_df).transform(cleaned_df)\n",
    "\n",
    "# Step 2: Assemble Features into a Vector\n",
    "assembler = VectorAssembler(\n",
    "    inputCols=[\"fashionType_index\", \"brandName_index\", \"baseColour_index\", \"data_price\", \"data_year\"],\n",
    "    outputCol=\"features\"\n",
    ")\n",
    "\n",
    "# Create the final DataFrame\n",
    "final_df = assembler.transform(indexed_df)\n",
    "\n",
    "# Display the prepared DataFrame\n",
    "final_df.select(\"features\", \"data_price\").show(5)\n"
   ]
  },
  {
   "cell_type": "code",
   "execution_count": 10,
   "id": "c3478781-8deb-4628-aaf7-474f1637dc52",
   "metadata": {},
   "outputs": [
    {
     "name": "stdout",
     "output_type": "stream",
     "text": [
      "+-------------------+----------+--------------------+-------------------+\n",
      "|     data_brandName|data_price|data_discountedPrice|discount_percentage|\n",
      "+-------------------+----------+--------------------+-------------------+\n",
      "|               Puma|      4999|                4999|                0.0|\n",
      "|SDL by Sweet Dreams|      1199|                1199|                0.0|\n",
      "|         Timberland|      1590|                1590|                0.0|\n",
      "|                Lee|      2099|                2099|                0.0|\n",
      "|                Lee|      2099|                2099|                0.0|\n",
      "+-------------------+----------+--------------------+-------------------+\n",
      "only showing top 5 rows\n",
      "\n"
     ]
    }
   ],
   "source": [
    "# Calculate discount percentage\n",
    "final_df = final_df.withColumn(\n",
    "    \"discount_percentage\",\n",
    "    when(col(\"data_price\") > 0, (col(\"data_price\") - col(\"data_discountedPrice\")) / col(\"data_price\") * 100).otherwise(0)\n",
    ")\n",
    "\n",
    "# Show the updated DataFrame\n",
    "final_df.select(\"data_brandName\", \"data_price\", \"data_discountedPrice\", \"discount_percentage\").show(5)"
   ]
  },
  {
   "cell_type": "code",
   "execution_count": 11,
   "id": "f1245554-d2ef-44c2-a74e-1ac158ad2514",
   "metadata": {},
   "outputs": [],
   "source": [
    "final_df = final_df.withColumnRenamed(\"data_price\", \"label\")"
   ]
  },
  {
   "cell_type": "code",
   "execution_count": 12,
   "id": "bf969291-0aa0-46ca-aa9d-f50a9e764215",
   "metadata": {},
   "outputs": [
    {
     "name": "stderr",
     "output_type": "stream",
     "text": [
      "[Stage 17:>                                                         (0 + 1) / 1]\r"
     ]
    },
    {
     "name": "stdout",
     "output_type": "stream",
     "text": [
      "+----------------+--------------+---------------+----------+---------+\n",
      "|data_fashionType|data_brandName|data_baseColour|data_price|data_year|\n",
      "+----------------+--------------+---------------+----------+---------+\n",
      "|               0|             0|              0|        20|        1|\n",
      "+----------------+--------------+---------------+----------+---------+\n",
      "\n"
     ]
    },
    {
     "name": "stderr",
     "output_type": "stream",
     "text": [
      "                                                                                \r"
     ]
    },
    {
     "data": {
      "text/plain": [
       "DataFrame[features: vector, data_price: int]"
      ]
     },
     "execution_count": 12,
     "metadata": {},
     "output_type": "execute_result"
    }
   ],
   "source": [
    "# Check null counts for the columns used in VectorAssembler\n",
    "cleaned_df.select(\n",
    "    [sum(col(c).isNull().cast(\"int\")).alias(c) for c in [\"data_fashionType\", \"data_brandName\", \"data_baseColour\", \"data_price\", \"data_year\"]]\n",
    ").show()\n",
    "\n",
    "# Drop rows where any of the relevant columns are null\n",
    "cleaned_df = cleaned_df.dropna(subset=[\"data_fashionType\", \"data_brandName\", \"data_baseColour\", \"data_price\", \"data_year\"])\n",
    "\n",
    "cleaned_df = cleaned_df.fillna({\n",
    "    \"data_fashionType\": \"unknown\",\n",
    "    \"data_brandName\": \"unknown\",\n",
    "    \"data_baseColour\": \"unknown\",\n",
    "    \"data_price\": 0,\n",
    "    \"data_year\": 0\n",
    "})\n",
    "assembler = VectorAssembler(\n",
    "    inputCols=[\"fashionType_index\", \"brandName_index\", \"baseColour_index\", \"data_price\", \"data_year\"],\n",
    "    outputCol=\"features\",\n",
    "    handleInvalid=\"skip\"  # Skip rows with nulls\n",
    ")\n",
    "assembler = VectorAssembler(\n",
    "    inputCols=[\"fashionType_index\", \"brandName_index\", \"baseColour_index\", \"data_price\", \"data_year\"],\n",
    "    outputCol=\"features\",\n",
    "    handleInvalid=\"keep\"  # Treat nulls as a separate category\n",
    ")\n",
    "final_df = assembler.transform(indexed_df)\n",
    "final_df.select(\"features\", \"data_price\")"
   ]
  },
  {
   "cell_type": "code",
   "execution_count": 13,
   "id": "23dfd2cb-6c77-45e7-a374-1a50b18a73c3",
   "metadata": {},
   "outputs": [],
   "source": [
    "# Rename data_price to label\n",
    "final_df = final_df.withColumnRenamed(\"data_price\", \"label\")"
   ]
  },
  {
   "cell_type": "code",
   "execution_count": 14,
   "id": "65249201-cb42-4f6d-96e8-babd11fac8fb",
   "metadata": {},
   "outputs": [
    {
     "name": "stdout",
     "output_type": "stream",
     "text": [
      "root\n",
      " |-- meta_code: integer (nullable = true)\n",
      " |-- meta_requestId: string (nullable = true)\n",
      " |-- data_id: integer (nullable = true)\n",
      " |-- label: integer (nullable = true)\n",
      " |-- data_discountedPrice: integer (nullable = true)\n",
      " |-- data_styleType: string (nullable = true)\n",
      " |-- data_productTypeId: integer (nullable = true)\n",
      " |-- data_articleNumber: string (nullable = true)\n",
      " |-- data_productDisplayName: string (nullable = true)\n",
      " |-- data_variantName: string (nullable = true)\n",
      " |-- data_myntraRating: integer (nullable = true)\n",
      " |-- data_catalogAddDate: integer (nullable = true)\n",
      " |-- data_brandName: string (nullable = true)\n",
      " |-- data_ageGroup: string (nullable = true)\n",
      " |-- data_gender: string (nullable = true)\n",
      " |-- data_baseColour: string (nullable = true)\n",
      " |-- data_colour1: string (nullable = true)\n",
      " |-- data_colour2: string (nullable = true)\n",
      " |-- data_fashionType: string (nullable = true)\n",
      " |-- data_season: string (nullable = true)\n",
      " |-- data_year: integer (nullable = true)\n",
      " |-- data_usage: string (nullable = true)\n",
      " |-- data_vat: float (nullable = true)\n",
      " |-- data_displayCategories: string (nullable = true)\n",
      " |-- data_weight: string (nullable = true)\n",
      " |-- data_navigationId: integer (nullable = true)\n",
      " |-- data_landingPageUrl: string (nullable = true)\n",
      " |-- data_crossLinks: array (nullable = true)\n",
      " |    |-- element: struct (containsNull = true)\n",
      " |    |    |-- key: string (nullable = true)\n",
      " |    |    |-- value: string (nullable = true)\n",
      " |-- data_codEnabled: boolean (nullable = true)\n",
      " |-- fashionType_index: double (nullable = false)\n",
      " |-- brandName_index: double (nullable = false)\n",
      " |-- baseColour_index: double (nullable = false)\n",
      " |-- features: vector (nullable = true)\n",
      "\n"
     ]
    }
   ],
   "source": [
    "final_df.printSchema()"
   ]
  },
  {
   "cell_type": "code",
   "execution_count": 15,
   "id": "db4fed56-92ea-4526-bb34-563aaaa28a84",
   "metadata": {},
   "outputs": [
    {
     "name": "stderr",
     "output_type": "stream",
     "text": [
      "[Stage 20:>                                                         (0 + 1) / 1]\r"
     ]
    },
    {
     "name": "stdout",
     "output_type": "stream",
     "text": [
      "+----------+---------+\n",
      "|null_count|nan_count|\n",
      "+----------+---------+\n",
      "|        20|        0|\n",
      "+----------+---------+\n",
      "\n"
     ]
    },
    {
     "name": "stderr",
     "output_type": "stream",
     "text": [
      "                                                                                \r"
     ]
    }
   ],
   "source": [
    "# Check for null or NaN values in the 'label' column\n",
    "final_df.select(\n",
    "    count(when(col(\"label\").isNull(), 1)).alias(\"null_count\"),\n",
    "    count(when(isnan(col(\"label\")), 1)).alias(\"nan_count\")\n",
    ").show()\n",
    "# Drop rows with null or NaN values in the label column\n",
    "final_df = final_df.filter(col(\"label\").isNotNull() & ~isnan(col(\"label\")))\n",
    "# Replace null or NaN values with 0\n",
    "final_df = final_df.fillna({\"label\": 0})"
   ]
  },
  {
   "cell_type": "code",
   "execution_count": 16,
   "id": "886921a0-5867-42fa-9fa3-f3127150d3a9",
   "metadata": {},
   "outputs": [
    {
     "name": "stderr",
     "output_type": "stream",
     "text": [
      "[Stage 23:>                                                         (0 + 1) / 1]\r"
     ]
    },
    {
     "name": "stdout",
     "output_type": "stream",
     "text": [
      "+----------+\n",
      "|null_count|\n",
      "+----------+\n",
      "|         0|\n",
      "+----------+\n",
      "\n"
     ]
    },
    {
     "name": "stderr",
     "output_type": "stream",
     "text": [
      "                                                                                \r"
     ]
    }
   ],
   "source": [
    "final_df = final_df.filter(col(\"label\").isNotNull())\n",
    "\n",
    "# Verify the null count again\n",
    "final_df.select(\n",
    "    count(when(col(\"label\").isNull(), 1)).alias(\"null_count\")\n",
    ").show()"
   ]
  },
  {
   "cell_type": "code",
   "execution_count": 17,
   "id": "62a4961b-a604-4d9f-8b8c-bc8f65af5978",
   "metadata": {},
   "outputs": [],
   "source": [
    "def contains_nan_or_inf(vector):\n",
    "    return any(x != x or x == float('inf') or x == float('-inf') for x in vector.toArray())\n",
    "\n",
    "contains_nan_or_inf_udf = udf(contains_nan_or_inf, \"boolean\")\n",
    "\n",
    "# Filter rows with NaN or Infinity in the features column\n",
    "problematic_rows = final_df.filter(contains_nan_or_inf_udf(col(\"features\")))\n",
    "\n",
    "# Show problematic rows"
   ]
  },
  {
   "cell_type": "code",
   "execution_count": 18,
   "id": "ef3fc62b-83b7-4b6c-86bf-c68e9baff8c3",
   "metadata": {},
   "outputs": [],
   "source": [
    "final_df = final_df.filter(~contains_nan_or_inf_udf(col(\"features\")))"
   ]
  },
  {
   "cell_type": "code",
   "execution_count": 19,
   "id": "4845caa4-b81f-43a3-8978-de67cbd71eb9",
   "metadata": {},
   "outputs": [
    {
     "name": "stdout",
     "output_type": "stream",
     "text": [
      "Number of problematic rows: 0\n"
     ]
    }
   ],
   "source": [
    "# Check again for problematic rows\n",
    "problematic_rows = final_df.filter(contains_nan_or_inf_udf(col(\"features\")))\n",
    "print(f\"Number of problematic rows: {problematic_rows.count()}\")"
   ]
  },
  {
   "cell_type": "code",
   "execution_count": 24,
   "id": "f825bc0a-05ca-43e0-83c2-40c037ad043b",
   "metadata": {},
   "outputs": [
    {
     "name": "stderr",
     "output_type": "stream",
     "text": [
      "                                                                                \r"
     ]
    },
    {
     "name": "stdout",
     "output_type": "stream",
     "text": [
      "========================================== Linear Regression =========================================\n",
      "+--------------------+-----+------------------+\n",
      "|            features|label|        prediction|\n",
      "+--------------------+-----+------------------+\n",
      "|[0.0,1.0,2.0,4999...| 4999| 4998.807239194444|\n",
      "|[0.0,86.0,7.0,119...| 1199|1199.0286754063925|\n",
      "|[0.0,47.0,8.0,159...| 1590|1590.0058907856367|\n",
      "|[0.0,18.0,0.0,209...| 2099|2098.9762299877734|\n",
      "|[0.0,18.0,2.0,209...| 2099|2098.9762299877734|\n",
      "+--------------------+-----+------------------+\n",
      "only showing top 5 rows\n",
      "\n"
     ]
    }
   ],
   "source": [
    "from pyspark.ml.regression import LinearRegression\n",
    "\n",
    "# Define Linear Regression model with regularization\n",
    "lr = LinearRegression(featuresCol=\"features\", labelCol=\"label\", regParam=0.1, elasticNetParam=0.5)\n",
    "\n",
    "# Fit the model\n",
    "lr_model = lr.fit(final_df)\n",
    "\n",
    "# Predict on the dataset\n",
    "lr_predictions = lr_model.transform(final_df)\n",
    "\n",
    "# Show predictions\n",
    "print(\"========================================== Linear Regression =========================================\")\n",
    "lr_predictions.select(\"features\", \"label\", \"prediction\").show(5)"
   ]
  },
  {
   "cell_type": "code",
   "execution_count": 25,
   "id": "07426829-14b2-489c-af71-7b89645f41d2",
   "metadata": {},
   "outputs": [
    {
     "name": "stderr",
     "output_type": "stream",
     "text": [
      "                                                                                \r"
     ]
    },
    {
     "name": "stdout",
     "output_type": "stream",
     "text": [
      "Root Mean Square Error (RMSE) Linear Regression: 0.0999982838823679\n"
     ]
    },
    {
     "name": "stderr",
     "output_type": "stream",
     "text": [
      "[Stage 44:=====================================>                  (24 + 8) / 36]\r"
     ]
    },
    {
     "name": "stdout",
     "output_type": "stream",
     "text": [
      "R² Linear Regression: 0.999999996604294\n"
     ]
    },
    {
     "name": "stderr",
     "output_type": "stream",
     "text": [
      "                                                                                \r"
     ]
    }
   ],
   "source": [
    "from pyspark.ml.evaluation import RegressionEvaluator\n",
    "\n",
    "# Evaluate RMSE\n",
    "evaluator = RegressionEvaluator(labelCol=\"label\", predictionCol=\"prediction\", metricName=\"rmse\")\n",
    "rmse = evaluator.evaluate(lr_predictions)\n",
    "print(f\"Root Mean Square Error (RMSE) Linear Regression: {rmse}\")\n",
    "\n",
    "\n",
    "# Evaluate R²\n",
    "r2_evaluator = RegressionEvaluator(labelCol=\"label\", predictionCol=\"prediction\", metricName=\"r2\")\n",
    "r2 = r2_evaluator.evaluate(lr_predictions)\n",
    "print(f\"R² Linear Regression: {r2}\")"
   ]
  },
  {
   "cell_type": "code",
   "execution_count": 26,
   "id": "ec24351f-b546-425a-8402-e58618da9ec5",
   "metadata": {},
   "outputs": [
    {
     "name": "stdout",
     "output_type": "stream",
     "text": [
      "Coefficients LR: [0.0,0.0,0.0,0.9999417273126453,0.0]\n",
      "Intercept LR: 0.09854435853073856\n"
     ]
    }
   ],
   "source": [
    "# Print coefficients and intercept\n",
    "print(f\"Coefficients LR: {lr_model.coefficients}\")\n",
    "print(f\"Intercept LR: {lr_model.intercept}\")"
   ]
  },
  {
   "cell_type": "code",
   "execution_count": 27,
   "id": "6d553792-b528-487d-b004-e53db5d983e6",
   "metadata": {},
   "outputs": [
    {
     "name": "stderr",
     "output_type": "stream",
     "text": [
      "                                                                                \r"
     ]
    },
    {
     "data": {
      "image/png": "[encoded data removed]",
      "text/plain": [
       "<Figure size 800x600 with 1 Axes>"
      ]
     },
     "metadata": {},
     "output_type": "display_data"
    }
   ],
   "source": [
    "# Convert to Pandas DataFrame\n",
    "pandas_df = lr_predictions.select(\"label\", \"prediction\").toPandas()\n",
    "\n",
    "# Scatter plot of actual vs. predicted values\n",
    "plt.figure(figsize=(8, 6))\n",
    "plt.scatter(pandas_df[\"label\"], pandas_df[\"prediction\"], alpha=0.5)\n",
    "plt.plot([pandas_df[\"label\"].min(), pandas_df[\"label\"].max()], [pandas_df[\"label\"].min(), pandas_df[\"label\"].max()], 'r--')\n",
    "plt.xlabel(\"Actual Label\")\n",
    "plt.ylabel(\"Predicted Label\")\n",
    "plt.title(\"Actual vs Predicted Values\")\n",
    "plt.show()"
   ]
  },
  {
   "cell_type": "code",
   "execution_count": null,
   "id": "21783c99-843b-4c06-b467-7202c950825c",
   "metadata": {},
   "outputs": [],
   "source": []
  }
 ],
 "metadata": {
  "kernelspec": {
   "display_name": "Python 3 (ipykernel)",
   "language": "python",
   "name": "python3"
  },
  "language_info": {
   "codemirror_mode": {
    "name": "ipython",
    "version": 3
   },
   "file_extension": ".py",
   "mimetype": "text/x-python",
   "name": "python",
   "nbconvert_exporter": "python",
   "pygments_lexer": "ipython3",
   "version": "3.12.6"
  }
 },
 "nbformat": 4,
 "nbformat_minor": 5
}
